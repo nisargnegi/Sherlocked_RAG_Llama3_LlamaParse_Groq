{
  "metadata": {
    "colab": {
      "provenance": [],
      "include_colab_link": true
    },
    "kernelspec": {
      "name": "python3",
      "display_name": "Python 3",
      "language": "python"
    },
    "language_info": {
      "name": "python",
      "version": "3.10.13",
      "mimetype": "text/x-python",
      "codemirror_mode": {
        "name": "ipython",
        "version": 3
      },
      "pygments_lexer": "ipython3",
      "nbconvert_exporter": "python",
      "file_extension": ".py"
    },
    "widgets": {
      "application/vnd.jupyter.widget-state+json": {
        "83e7cd6bb3544d19a1d3104ef28d682c": {
          "model_module": "@jupyter-widgets/controls",
          "model_name": "HBoxModel",
          "model_module_version": "1.5.0",
          "state": {
            "_dom_classes": [],
            "_model_module": "@jupyter-widgets/controls",
            "_model_module_version": "1.5.0",
            "_model_name": "HBoxModel",
            "_view_count": null,
            "_view_module": "@jupyter-widgets/controls",
            "_view_module_version": "1.5.0",
            "_view_name": "HBoxView",
            "box_style": "",
            "children": [
              "IPY_MODEL_9ff56ae8769d406c95cbcf6e079d3a09",
              "IPY_MODEL_add548b27b76422b830a1b4943b9afd2",
              "IPY_MODEL_10a47de7d31441cd89b726a913e735c8"
            ],
            "layout": "IPY_MODEL_78f75d06bbeb43ba9ae4f521bd77030e"
          }
        },
        "9ff56ae8769d406c95cbcf6e079d3a09": {
          "model_module": "@jupyter-widgets/controls",
          "model_name": "HTMLModel",
          "model_module_version": "1.5.0",
          "state": {
            "_dom_classes": [],
            "_model_module": "@jupyter-widgets/controls",
            "_model_module_version": "1.5.0",
            "_model_name": "HTMLModel",
            "_view_count": null,
            "_view_module": "@jupyter-widgets/controls",
            "_view_module_version": "1.5.0",
            "_view_name": "HTMLView",
            "description": "",
            "description_tooltip": null,
            "layout": "IPY_MODEL_728c613a18ce43f189291d2c723390d1",
            "placeholder": "​",
            "style": "IPY_MODEL_e5a74a05adce46258482a655c1a8ebfa",
            "value": "Fetching 5 files: 100%"
          }
        },
        "add548b27b76422b830a1b4943b9afd2": {
          "model_module": "@jupyter-widgets/controls",
          "model_name": "FloatProgressModel",
          "model_module_version": "1.5.0",
          "state": {
            "_dom_classes": [],
            "_model_module": "@jupyter-widgets/controls",
            "_model_module_version": "1.5.0",
            "_model_name": "FloatProgressModel",
            "_view_count": null,
            "_view_module": "@jupyter-widgets/controls",
            "_view_module_version": "1.5.0",
            "_view_name": "ProgressView",
            "bar_style": "success",
            "description": "",
            "description_tooltip": null,
            "layout": "IPY_MODEL_5ce6a776ef17475ba8422243fc0767a6",
            "max": 5,
            "min": 0,
            "orientation": "horizontal",
            "style": "IPY_MODEL_dd6377a1abc14e1bb3c9021003e2a4c8",
            "value": 5
          }
        },
        "10a47de7d31441cd89b726a913e735c8": {
          "model_module": "@jupyter-widgets/controls",
          "model_name": "HTMLModel",
          "model_module_version": "1.5.0",
          "state": {
            "_dom_classes": [],
            "_model_module": "@jupyter-widgets/controls",
            "_model_module_version": "1.5.0",
            "_model_name": "HTMLModel",
            "_view_count": null,
            "_view_module": "@jupyter-widgets/controls",
            "_view_module_version": "1.5.0",
            "_view_name": "HTMLView",
            "description": "",
            "description_tooltip": null,
            "layout": "IPY_MODEL_beb6384c66b1411484e679847c638239",
            "placeholder": "​",
            "style": "IPY_MODEL_592086cead7f414990c64e032158d88a",
            "value": " 5/5 [00:06&lt;00:00,  3.87s/it]"
          }
        },
        "78f75d06bbeb43ba9ae4f521bd77030e": {
          "model_module": "@jupyter-widgets/base",
          "model_name": "LayoutModel",
          "model_module_version": "1.2.0",
          "state": {
            "_model_module": "@jupyter-widgets/base",
            "_model_module_version": "1.2.0",
            "_model_name": "LayoutModel",
            "_view_count": null,
            "_view_module": "@jupyter-widgets/base",
            "_view_module_version": "1.2.0",
            "_view_name": "LayoutView",
            "align_content": null,
            "align_items": null,
            "align_self": null,
            "border": null,
            "bottom": null,
            "display": null,
            "flex": null,
            "flex_flow": null,
            "grid_area": null,
            "grid_auto_columns": null,
            "grid_auto_flow": null,
            "grid_auto_rows": null,
            "grid_column": null,
            "grid_gap": null,
            "grid_row": null,
            "grid_template_areas": null,
            "grid_template_columns": null,
            "grid_template_rows": null,
            "height": null,
            "justify_content": null,
            "justify_items": null,
            "left": null,
            "margin": null,
            "max_height": null,
            "max_width": null,
            "min_height": null,
            "min_width": null,
            "object_fit": null,
            "object_position": null,
            "order": null,
            "overflow": null,
            "overflow_x": null,
            "overflow_y": null,
            "padding": null,
            "right": null,
            "top": null,
            "visibility": null,
            "width": null
          }
        },
        "728c613a18ce43f189291d2c723390d1": {
          "model_module": "@jupyter-widgets/base",
          "model_name": "LayoutModel",
          "model_module_version": "1.2.0",
          "state": {
            "_model_module": "@jupyter-widgets/base",
            "_model_module_version": "1.2.0",
            "_model_name": "LayoutModel",
            "_view_count": null,
            "_view_module": "@jupyter-widgets/base",
            "_view_module_version": "1.2.0",
            "_view_name": "LayoutView",
            "align_content": null,
            "align_items": null,
            "align_self": null,
            "border": null,
            "bottom": null,
            "display": null,
            "flex": null,
            "flex_flow": null,
            "grid_area": null,
            "grid_auto_columns": null,
            "grid_auto_flow": null,
            "grid_auto_rows": null,
            "grid_column": null,
            "grid_gap": null,
            "grid_row": null,
            "grid_template_areas": null,
            "grid_template_columns": null,
            "grid_template_rows": null,
            "height": null,
            "justify_content": null,
            "justify_items": null,
            "left": null,
            "margin": null,
            "max_height": null,
            "max_width": null,
            "min_height": null,
            "min_width": null,
            "object_fit": null,
            "object_position": null,
            "order": null,
            "overflow": null,
            "overflow_x": null,
            "overflow_y": null,
            "padding": null,
            "right": null,
            "top": null,
            "visibility": null,
            "width": null
          }
        },
        "e5a74a05adce46258482a655c1a8ebfa": {
          "model_module": "@jupyter-widgets/controls",
          "model_name": "DescriptionStyleModel",
          "model_module_version": "1.5.0",
          "state": {
            "_model_module": "@jupyter-widgets/controls",
            "_model_module_version": "1.5.0",
            "_model_name": "DescriptionStyleModel",
            "_view_count": null,
            "_view_module": "@jupyter-widgets/base",
            "_view_module_version": "1.2.0",
            "_view_name": "StyleView",
            "description_width": ""
          }
        },
        "5ce6a776ef17475ba8422243fc0767a6": {
          "model_module": "@jupyter-widgets/base",
          "model_name": "LayoutModel",
          "model_module_version": "1.2.0",
          "state": {
            "_model_module": "@jupyter-widgets/base",
            "_model_module_version": "1.2.0",
            "_model_name": "LayoutModel",
            "_view_count": null,
            "_view_module": "@jupyter-widgets/base",
            "_view_module_version": "1.2.0",
            "_view_name": "LayoutView",
            "align_content": null,
            "align_items": null,
            "align_self": null,
            "border": null,
            "bottom": null,
            "display": null,
            "flex": null,
            "flex_flow": null,
            "grid_area": null,
            "grid_auto_columns": null,
            "grid_auto_flow": null,
            "grid_auto_rows": null,
            "grid_column": null,
            "grid_gap": null,
            "grid_row": null,
            "grid_template_areas": null,
            "grid_template_columns": null,
            "grid_template_rows": null,
            "height": null,
            "justify_content": null,
            "justify_items": null,
            "left": null,
            "margin": null,
            "max_height": null,
            "max_width": null,
            "min_height": null,
            "min_width": null,
            "object_fit": null,
            "object_position": null,
            "order": null,
            "overflow": null,
            "overflow_x": null,
            "overflow_y": null,
            "padding": null,
            "right": null,
            "top": null,
            "visibility": null,
            "width": null
          }
        },
        "dd6377a1abc14e1bb3c9021003e2a4c8": {
          "model_module": "@jupyter-widgets/controls",
          "model_name": "ProgressStyleModel",
          "model_module_version": "1.5.0",
          "state": {
            "_model_module": "@jupyter-widgets/controls",
            "_model_module_version": "1.5.0",
            "_model_name": "ProgressStyleModel",
            "_view_count": null,
            "_view_module": "@jupyter-widgets/base",
            "_view_module_version": "1.2.0",
            "_view_name": "StyleView",
            "bar_color": null,
            "description_width": ""
          }
        },
        "beb6384c66b1411484e679847c638239": {
          "model_module": "@jupyter-widgets/base",
          "model_name": "LayoutModel",
          "model_module_version": "1.2.0",
          "state": {
            "_model_module": "@jupyter-widgets/base",
            "_model_module_version": "1.2.0",
            "_model_name": "LayoutModel",
            "_view_count": null,
            "_view_module": "@jupyter-widgets/base",
            "_view_module_version": "1.2.0",
            "_view_name": "LayoutView",
            "align_content": null,
            "align_items": null,
            "align_self": null,
            "border": null,
            "bottom": null,
            "display": null,
            "flex": null,
            "flex_flow": null,
            "grid_area": null,
            "grid_auto_columns": null,
            "grid_auto_flow": null,
            "grid_auto_rows": null,
            "grid_column": null,
            "grid_gap": null,
            "grid_row": null,
            "grid_template_areas": null,
            "grid_template_columns": null,
            "grid_template_rows": null,
            "height": null,
            "justify_content": null,
            "justify_items": null,
            "left": null,
            "margin": null,
            "max_height": null,
            "max_width": null,
            "min_height": null,
            "min_width": null,
            "object_fit": null,
            "object_position": null,
            "order": null,
            "overflow": null,
            "overflow_x": null,
            "overflow_y": null,
            "padding": null,
            "right": null,
            "top": null,
            "visibility": null,
            "width": null
          }
        },
        "592086cead7f414990c64e032158d88a": {
          "model_module": "@jupyter-widgets/controls",
          "model_name": "DescriptionStyleModel",
          "model_module_version": "1.5.0",
          "state": {
            "_model_module": "@jupyter-widgets/controls",
            "_model_module_version": "1.5.0",
            "_model_name": "DescriptionStyleModel",
            "_view_count": null,
            "_view_module": "@jupyter-widgets/base",
            "_view_module_version": "1.2.0",
            "_view_name": "StyleView",
            "description_width": ""
          }
        },
        "d9162bf66e5a4e8f8c499565adfd1d0f": {
          "model_module": "@jupyter-widgets/controls",
          "model_name": "HBoxModel",
          "model_module_version": "1.5.0",
          "state": {
            "_dom_classes": [],
            "_model_module": "@jupyter-widgets/controls",
            "_model_module_version": "1.5.0",
            "_model_name": "HBoxModel",
            "_view_count": null,
            "_view_module": "@jupyter-widgets/controls",
            "_view_module_version": "1.5.0",
            "_view_name": "HBoxView",
            "box_style": "",
            "children": [
              "IPY_MODEL_7a5651cb326d45d090b5c9f66d2636e7",
              "IPY_MODEL_82db3147de844a5ba36e84b14c68faa7",
              "IPY_MODEL_9869fc9fabfa46eb9e71ccba4b31b1e9"
            ],
            "layout": "IPY_MODEL_b079fa8d5ade4b6fb9be8a38f4a928c6"
          }
        },
        "7a5651cb326d45d090b5c9f66d2636e7": {
          "model_module": "@jupyter-widgets/controls",
          "model_name": "HTMLModel",
          "model_module_version": "1.5.0",
          "state": {
            "_dom_classes": [],
            "_model_module": "@jupyter-widgets/controls",
            "_model_module_version": "1.5.0",
            "_model_name": "HTMLModel",
            "_view_count": null,
            "_view_module": "@jupyter-widgets/controls",
            "_view_module_version": "1.5.0",
            "_view_name": "HTMLView",
            "description": "",
            "description_tooltip": null,
            "layout": "IPY_MODEL_f87e3d5ed16e452cada3374a73bd63fe",
            "placeholder": "​",
            "style": "IPY_MODEL_db56c5554ed14a3187fafc1e115a07eb",
            "value": "tokenizer.json: 100%"
          }
        },
        "82db3147de844a5ba36e84b14c68faa7": {
          "model_module": "@jupyter-widgets/controls",
          "model_name": "FloatProgressModel",
          "model_module_version": "1.5.0",
          "state": {
            "_dom_classes": [],
            "_model_module": "@jupyter-widgets/controls",
            "_model_module_version": "1.5.0",
            "_model_name": "FloatProgressModel",
            "_view_count": null,
            "_view_module": "@jupyter-widgets/controls",
            "_view_module_version": "1.5.0",
            "_view_name": "ProgressView",
            "bar_style": "success",
            "description": "",
            "description_tooltip": null,
            "layout": "IPY_MODEL_a24a2e0b1967475f90a4875d3e7fd073",
            "max": 711396,
            "min": 0,
            "orientation": "horizontal",
            "style": "IPY_MODEL_ba97053142b7447a97df434ec093c3f0",
            "value": 711396
          }
        },
        "9869fc9fabfa46eb9e71ccba4b31b1e9": {
          "model_module": "@jupyter-widgets/controls",
          "model_name": "HTMLModel",
          "model_module_version": "1.5.0",
          "state": {
            "_dom_classes": [],
            "_model_module": "@jupyter-widgets/controls",
            "_model_module_version": "1.5.0",
            "_model_name": "HTMLModel",
            "_view_count": null,
            "_view_module": "@jupyter-widgets/controls",
            "_view_module_version": "1.5.0",
            "_view_name": "HTMLView",
            "description": "",
            "description_tooltip": null,
            "layout": "IPY_MODEL_51a8cd104f17479fb7da926e5822619f",
            "placeholder": "​",
            "style": "IPY_MODEL_d7c13076debb46e5ae0fa0c45b5f4441",
            "value": " 711k/711k [00:00&lt;00:00, 2.72MB/s]"
          }
        },
        "b079fa8d5ade4b6fb9be8a38f4a928c6": {
          "model_module": "@jupyter-widgets/base",
          "model_name": "LayoutModel",
          "model_module_version": "1.2.0",
          "state": {
            "_model_module": "@jupyter-widgets/base",
            "_model_module_version": "1.2.0",
            "_model_name": "LayoutModel",
            "_view_count": null,
            "_view_module": "@jupyter-widgets/base",
            "_view_module_version": "1.2.0",
            "_view_name": "LayoutView",
            "align_content": null,
            "align_items": null,
            "align_self": null,
            "border": null,
            "bottom": null,
            "display": null,
            "flex": null,
            "flex_flow": null,
            "grid_area": null,
            "grid_auto_columns": null,
            "grid_auto_flow": null,
            "grid_auto_rows": null,
            "grid_column": null,
            "grid_gap": null,
            "grid_row": null,
            "grid_template_areas": null,
            "grid_template_columns": null,
            "grid_template_rows": null,
            "height": null,
            "justify_content": null,
            "justify_items": null,
            "left": null,
            "margin": null,
            "max_height": null,
            "max_width": null,
            "min_height": null,
            "min_width": null,
            "object_fit": null,
            "object_position": null,
            "order": null,
            "overflow": null,
            "overflow_x": null,
            "overflow_y": null,
            "padding": null,
            "right": null,
            "top": null,
            "visibility": null,
            "width": null
          }
        },
        "f87e3d5ed16e452cada3374a73bd63fe": {
          "model_module": "@jupyter-widgets/base",
          "model_name": "LayoutModel",
          "model_module_version": "1.2.0",
          "state": {
            "_model_module": "@jupyter-widgets/base",
            "_model_module_version": "1.2.0",
            "_model_name": "LayoutModel",
            "_view_count": null,
            "_view_module": "@jupyter-widgets/base",
            "_view_module_version": "1.2.0",
            "_view_name": "LayoutView",
            "align_content": null,
            "align_items": null,
            "align_self": null,
            "border": null,
            "bottom": null,
            "display": null,
            "flex": null,
            "flex_flow": null,
            "grid_area": null,
            "grid_auto_columns": null,
            "grid_auto_flow": null,
            "grid_auto_rows": null,
            "grid_column": null,
            "grid_gap": null,
            "grid_row": null,
            "grid_template_areas": null,
            "grid_template_columns": null,
            "grid_template_rows": null,
            "height": null,
            "justify_content": null,
            "justify_items": null,
            "left": null,
            "margin": null,
            "max_height": null,
            "max_width": null,
            "min_height": null,
            "min_width": null,
            "object_fit": null,
            "object_position": null,
            "order": null,
            "overflow": null,
            "overflow_x": null,
            "overflow_y": null,
            "padding": null,
            "right": null,
            "top": null,
            "visibility": null,
            "width": null
          }
        },
        "db56c5554ed14a3187fafc1e115a07eb": {
          "model_module": "@jupyter-widgets/controls",
          "model_name": "DescriptionStyleModel",
          "model_module_version": "1.5.0",
          "state": {
            "_model_module": "@jupyter-widgets/controls",
            "_model_module_version": "1.5.0",
            "_model_name": "DescriptionStyleModel",
            "_view_count": null,
            "_view_module": "@jupyter-widgets/base",
            "_view_module_version": "1.2.0",
            "_view_name": "StyleView",
            "description_width": ""
          }
        },
        "a24a2e0b1967475f90a4875d3e7fd073": {
          "model_module": "@jupyter-widgets/base",
          "model_name": "LayoutModel",
          "model_module_version": "1.2.0",
          "state": {
            "_model_module": "@jupyter-widgets/base",
            "_model_module_version": "1.2.0",
            "_model_name": "LayoutModel",
            "_view_count": null,
            "_view_module": "@jupyter-widgets/base",
            "_view_module_version": "1.2.0",
            "_view_name": "LayoutView",
            "align_content": null,
            "align_items": null,
            "align_self": null,
            "border": null,
            "bottom": null,
            "display": null,
            "flex": null,
            "flex_flow": null,
            "grid_area": null,
            "grid_auto_columns": null,
            "grid_auto_flow": null,
            "grid_auto_rows": null,
            "grid_column": null,
            "grid_gap": null,
            "grid_row": null,
            "grid_template_areas": null,
            "grid_template_columns": null,
            "grid_template_rows": null,
            "height": null,
            "justify_content": null,
            "justify_items": null,
            "left": null,
            "margin": null,
            "max_height": null,
            "max_width": null,
            "min_height": null,
            "min_width": null,
            "object_fit": null,
            "object_position": null,
            "order": null,
            "overflow": null,
            "overflow_x": null,
            "overflow_y": null,
            "padding": null,
            "right": null,
            "top": null,
            "visibility": null,
            "width": null
          }
        },
        "ba97053142b7447a97df434ec093c3f0": {
          "model_module": "@jupyter-widgets/controls",
          "model_name": "ProgressStyleModel",
          "model_module_version": "1.5.0",
          "state": {
            "_model_module": "@jupyter-widgets/controls",
            "_model_module_version": "1.5.0",
            "_model_name": "ProgressStyleModel",
            "_view_count": null,
            "_view_module": "@jupyter-widgets/base",
            "_view_module_version": "1.2.0",
            "_view_name": "StyleView",
            "bar_color": null,
            "description_width": ""
          }
        },
        "51a8cd104f17479fb7da926e5822619f": {
          "model_module": "@jupyter-widgets/base",
          "model_name": "LayoutModel",
          "model_module_version": "1.2.0",
          "state": {
            "_model_module": "@jupyter-widgets/base",
            "_model_module_version": "1.2.0",
            "_model_name": "LayoutModel",
            "_view_count": null,
            "_view_module": "@jupyter-widgets/base",
            "_view_module_version": "1.2.0",
            "_view_name": "LayoutView",
            "align_content": null,
            "align_items": null,
            "align_self": null,
            "border": null,
            "bottom": null,
            "display": null,
            "flex": null,
            "flex_flow": null,
            "grid_area": null,
            "grid_auto_columns": null,
            "grid_auto_flow": null,
            "grid_auto_rows": null,
            "grid_column": null,
            "grid_gap": null,
            "grid_row": null,
            "grid_template_areas": null,
            "grid_template_columns": null,
            "grid_template_rows": null,
            "height": null,
            "justify_content": null,
            "justify_items": null,
            "left": null,
            "margin": null,
            "max_height": null,
            "max_width": null,
            "min_height": null,
            "min_width": null,
            "object_fit": null,
            "object_position": null,
            "order": null,
            "overflow": null,
            "overflow_x": null,
            "overflow_y": null,
            "padding": null,
            "right": null,
            "top": null,
            "visibility": null,
            "width": null
          }
        },
        "d7c13076debb46e5ae0fa0c45b5f4441": {
          "model_module": "@jupyter-widgets/controls",
          "model_name": "DescriptionStyleModel",
          "model_module_version": "1.5.0",
          "state": {
            "_model_module": "@jupyter-widgets/controls",
            "_model_module_version": "1.5.0",
            "_model_name": "DescriptionStyleModel",
            "_view_count": null,
            "_view_module": "@jupyter-widgets/base",
            "_view_module_version": "1.2.0",
            "_view_name": "StyleView",
            "description_width": ""
          }
        },
        "7a23e6dac2e8491c94c0bfb383360542": {
          "model_module": "@jupyter-widgets/controls",
          "model_name": "HBoxModel",
          "model_module_version": "1.5.0",
          "state": {
            "_dom_classes": [],
            "_model_module": "@jupyter-widgets/controls",
            "_model_module_version": "1.5.0",
            "_model_name": "HBoxModel",
            "_view_count": null,
            "_view_module": "@jupyter-widgets/controls",
            "_view_module_version": "1.5.0",
            "_view_name": "HBoxView",
            "box_style": "",
            "children": [
              "IPY_MODEL_530a558a1179404bafb0f94f77a50885",
              "IPY_MODEL_8805aadc9f704d6ca8a28978993e0976",
              "IPY_MODEL_64dd8ae9f2eb4afcbdb1622749cd98e7"
            ],
            "layout": "IPY_MODEL_ebc86b9097fc42a6912cc788ffe57550"
          }
        },
        "530a558a1179404bafb0f94f77a50885": {
          "model_module": "@jupyter-widgets/controls",
          "model_name": "HTMLModel",
          "model_module_version": "1.5.0",
          "state": {
            "_dom_classes": [],
            "_model_module": "@jupyter-widgets/controls",
            "_model_module_version": "1.5.0",
            "_model_name": "HTMLModel",
            "_view_count": null,
            "_view_module": "@jupyter-widgets/controls",
            "_view_module_version": "1.5.0",
            "_view_name": "HTMLView",
            "description": "",
            "description_tooltip": null,
            "layout": "IPY_MODEL_af0ad5cd9a124855b255cbe603ba0081",
            "placeholder": "​",
            "style": "IPY_MODEL_6cf21fed5e024bfbad905dc1753867d2",
            "value": "config.json: 100%"
          }
        },
        "8805aadc9f704d6ca8a28978993e0976": {
          "model_module": "@jupyter-widgets/controls",
          "model_name": "FloatProgressModel",
          "model_module_version": "1.5.0",
          "state": {
            "_dom_classes": [],
            "_model_module": "@jupyter-widgets/controls",
            "_model_module_version": "1.5.0",
            "_model_name": "FloatProgressModel",
            "_view_count": null,
            "_view_module": "@jupyter-widgets/controls",
            "_view_module_version": "1.5.0",
            "_view_name": "ProgressView",
            "bar_style": "success",
            "description": "",
            "description_tooltip": null,
            "layout": "IPY_MODEL_3b5ea2243b1d47a386e2ea768f8b1a08",
            "max": 740,
            "min": 0,
            "orientation": "horizontal",
            "style": "IPY_MODEL_ce48eff2e55645469c77169189c40f3b",
            "value": 740
          }
        },
        "64dd8ae9f2eb4afcbdb1622749cd98e7": {
          "model_module": "@jupyter-widgets/controls",
          "model_name": "HTMLModel",
          "model_module_version": "1.5.0",
          "state": {
            "_dom_classes": [],
            "_model_module": "@jupyter-widgets/controls",
            "_model_module_version": "1.5.0",
            "_model_name": "HTMLModel",
            "_view_count": null,
            "_view_module": "@jupyter-widgets/controls",
            "_view_module_version": "1.5.0",
            "_view_name": "HTMLView",
            "description": "",
            "description_tooltip": null,
            "layout": "IPY_MODEL_c21e3d777897412eb1912ae0792d5c54",
            "placeholder": "​",
            "style": "IPY_MODEL_f28f4d4a1bda45b0ae28fc22218ef75f",
            "value": " 740/740 [00:00&lt;00:00, 11.1kB/s]"
          }
        },
        "ebc86b9097fc42a6912cc788ffe57550": {
          "model_module": "@jupyter-widgets/base",
          "model_name": "LayoutModel",
          "model_module_version": "1.2.0",
          "state": {
            "_model_module": "@jupyter-widgets/base",
            "_model_module_version": "1.2.0",
            "_model_name": "LayoutModel",
            "_view_count": null,
            "_view_module": "@jupyter-widgets/base",
            "_view_module_version": "1.2.0",
            "_view_name": "LayoutView",
            "align_content": null,
            "align_items": null,
            "align_self": null,
            "border": null,
            "bottom": null,
            "display": null,
            "flex": null,
            "flex_flow": null,
            "grid_area": null,
            "grid_auto_columns": null,
            "grid_auto_flow": null,
            "grid_auto_rows": null,
            "grid_column": null,
            "grid_gap": null,
            "grid_row": null,
            "grid_template_areas": null,
            "grid_template_columns": null,
            "grid_template_rows": null,
            "height": null,
            "justify_content": null,
            "justify_items": null,
            "left": null,
            "margin": null,
            "max_height": null,
            "max_width": null,
            "min_height": null,
            "min_width": null,
            "object_fit": null,
            "object_position": null,
            "order": null,
            "overflow": null,
            "overflow_x": null,
            "overflow_y": null,
            "padding": null,
            "right": null,
            "top": null,
            "visibility": null,
            "width": null
          }
        },
        "af0ad5cd9a124855b255cbe603ba0081": {
          "model_module": "@jupyter-widgets/base",
          "model_name": "LayoutModel",
          "model_module_version": "1.2.0",
          "state": {
            "_model_module": "@jupyter-widgets/base",
            "_model_module_version": "1.2.0",
            "_model_name": "LayoutModel",
            "_view_count": null,
            "_view_module": "@jupyter-widgets/base",
            "_view_module_version": "1.2.0",
            "_view_name": "LayoutView",
            "align_content": null,
            "align_items": null,
            "align_self": null,
            "border": null,
            "bottom": null,
            "display": null,
            "flex": null,
            "flex_flow": null,
            "grid_area": null,
            "grid_auto_columns": null,
            "grid_auto_flow": null,
            "grid_auto_rows": null,
            "grid_column": null,
            "grid_gap": null,
            "grid_row": null,
            "grid_template_areas": null,
            "grid_template_columns": null,
            "grid_template_rows": null,
            "height": null,
            "justify_content": null,
            "justify_items": null,
            "left": null,
            "margin": null,
            "max_height": null,
            "max_width": null,
            "min_height": null,
            "min_width": null,
            "object_fit": null,
            "object_position": null,
            "order": null,
            "overflow": null,
            "overflow_x": null,
            "overflow_y": null,
            "padding": null,
            "right": null,
            "top": null,
            "visibility": null,
            "width": null
          }
        },
        "6cf21fed5e024bfbad905dc1753867d2": {
          "model_module": "@jupyter-widgets/controls",
          "model_name": "DescriptionStyleModel",
          "model_module_version": "1.5.0",
          "state": {
            "_model_module": "@jupyter-widgets/controls",
            "_model_module_version": "1.5.0",
            "_model_name": "DescriptionStyleModel",
            "_view_count": null,
            "_view_module": "@jupyter-widgets/base",
            "_view_module_version": "1.2.0",
            "_view_name": "StyleView",
            "description_width": ""
          }
        },
        "3b5ea2243b1d47a386e2ea768f8b1a08": {
          "model_module": "@jupyter-widgets/base",
          "model_name": "LayoutModel",
          "model_module_version": "1.2.0",
          "state": {
            "_model_module": "@jupyter-widgets/base",
            "_model_module_version": "1.2.0",
            "_model_name": "LayoutModel",
            "_view_count": null,
            "_view_module": "@jupyter-widgets/base",
            "_view_module_version": "1.2.0",
            "_view_name": "LayoutView",
            "align_content": null,
            "align_items": null,
            "align_self": null,
            "border": null,
            "bottom": null,
            "display": null,
            "flex": null,
            "flex_flow": null,
            "grid_area": null,
            "grid_auto_columns": null,
            "grid_auto_flow": null,
            "grid_auto_rows": null,
            "grid_column": null,
            "grid_gap": null,
            "grid_row": null,
            "grid_template_areas": null,
            "grid_template_columns": null,
            "grid_template_rows": null,
            "height": null,
            "justify_content": null,
            "justify_items": null,
            "left": null,
            "margin": null,
            "max_height": null,
            "max_width": null,
            "min_height": null,
            "min_width": null,
            "object_fit": null,
            "object_position": null,
            "order": null,
            "overflow": null,
            "overflow_x": null,
            "overflow_y": null,
            "padding": null,
            "right": null,
            "top": null,
            "visibility": null,
            "width": null
          }
        },
        "ce48eff2e55645469c77169189c40f3b": {
          "model_module": "@jupyter-widgets/controls",
          "model_name": "ProgressStyleModel",
          "model_module_version": "1.5.0",
          "state": {
            "_model_module": "@jupyter-widgets/controls",
            "_model_module_version": "1.5.0",
            "_model_name": "ProgressStyleModel",
            "_view_count": null,
            "_view_module": "@jupyter-widgets/base",
            "_view_module_version": "1.2.0",
            "_view_name": "StyleView",
            "bar_color": null,
            "description_width": ""
          }
        },
        "c21e3d777897412eb1912ae0792d5c54": {
          "model_module": "@jupyter-widgets/base",
          "model_name": "LayoutModel",
          "model_module_version": "1.2.0",
          "state": {
            "_model_module": "@jupyter-widgets/base",
            "_model_module_version": "1.2.0",
            "_model_name": "LayoutModel",
            "_view_count": null,
            "_view_module": "@jupyter-widgets/base",
            "_view_module_version": "1.2.0",
            "_view_name": "LayoutView",
            "align_content": null,
            "align_items": null,
            "align_self": null,
            "border": null,
            "bottom": null,
            "display": null,
            "flex": null,
            "flex_flow": null,
            "grid_area": null,
            "grid_auto_columns": null,
            "grid_auto_flow": null,
            "grid_auto_rows": null,
            "grid_column": null,
            "grid_gap": null,
            "grid_row": null,
            "grid_template_areas": null,
            "grid_template_columns": null,
            "grid_template_rows": null,
            "height": null,
            "justify_content": null,
            "justify_items": null,
            "left": null,
            "margin": null,
            "max_height": null,
            "max_width": null,
            "min_height": null,
            "min_width": null,
            "object_fit": null,
            "object_position": null,
            "order": null,
            "overflow": null,
            "overflow_x": null,
            "overflow_y": null,
            "padding": null,
            "right": null,
            "top": null,
            "visibility": null,
            "width": null
          }
        },
        "f28f4d4a1bda45b0ae28fc22218ef75f": {
          "model_module": "@jupyter-widgets/controls",
          "model_name": "DescriptionStyleModel",
          "model_module_version": "1.5.0",
          "state": {
            "_model_module": "@jupyter-widgets/controls",
            "_model_module_version": "1.5.0",
            "_model_name": "DescriptionStyleModel",
            "_view_count": null,
            "_view_module": "@jupyter-widgets/base",
            "_view_module_version": "1.2.0",
            "_view_name": "StyleView",
            "description_width": ""
          }
        },
        "313b2126698a4cdab025f57cbf734531": {
          "model_module": "@jupyter-widgets/controls",
          "model_name": "HBoxModel",
          "model_module_version": "1.5.0",
          "state": {
            "_dom_classes": [],
            "_model_module": "@jupyter-widgets/controls",
            "_model_module_version": "1.5.0",
            "_model_name": "HBoxModel",
            "_view_count": null,
            "_view_module": "@jupyter-widgets/controls",
            "_view_module_version": "1.5.0",
            "_view_name": "HBoxView",
            "box_style": "",
            "children": [
              "IPY_MODEL_da73b50c2f3b46c9967650d75a69a87e",
              "IPY_MODEL_43e39661c9834a3b9923da2062fc05a4",
              "IPY_MODEL_5e136de40b2f4e0baafcebcf5896b282"
            ],
            "layout": "IPY_MODEL_5a79ea7c3e9249b996cea04aec982f69"
          }
        },
        "da73b50c2f3b46c9967650d75a69a87e": {
          "model_module": "@jupyter-widgets/controls",
          "model_name": "HTMLModel",
          "model_module_version": "1.5.0",
          "state": {
            "_dom_classes": [],
            "_model_module": "@jupyter-widgets/controls",
            "_model_module_version": "1.5.0",
            "_model_name": "HTMLModel",
            "_view_count": null,
            "_view_module": "@jupyter-widgets/controls",
            "_view_module_version": "1.5.0",
            "_view_name": "HTMLView",
            "description": "",
            "description_tooltip": null,
            "layout": "IPY_MODEL_9f88a8b64f72453d9153cd52ab30797c",
            "placeholder": "​",
            "style": "IPY_MODEL_ecfd4c4bed8b449cb017ce90a4e3bbfb",
            "value": "special_tokens_map.json: 100%"
          }
        },
        "43e39661c9834a3b9923da2062fc05a4": {
          "model_module": "@jupyter-widgets/controls",
          "model_name": "FloatProgressModel",
          "model_module_version": "1.5.0",
          "state": {
            "_dom_classes": [],
            "_model_module": "@jupyter-widgets/controls",
            "_model_module_version": "1.5.0",
            "_model_name": "FloatProgressModel",
            "_view_count": null,
            "_view_module": "@jupyter-widgets/controls",
            "_view_module_version": "1.5.0",
            "_view_name": "ProgressView",
            "bar_style": "success",
            "description": "",
            "description_tooltip": null,
            "layout": "IPY_MODEL_fe32948348ae4ab49dca84a64ef788a0",
            "max": 695,
            "min": 0,
            "orientation": "horizontal",
            "style": "IPY_MODEL_e4460d192fea4f0cbdc4684981fb8861",
            "value": 695
          }
        },
        "5e136de40b2f4e0baafcebcf5896b282": {
          "model_module": "@jupyter-widgets/controls",
          "model_name": "HTMLModel",
          "model_module_version": "1.5.0",
          "state": {
            "_dom_classes": [],
            "_model_module": "@jupyter-widgets/controls",
            "_model_module_version": "1.5.0",
            "_model_name": "HTMLModel",
            "_view_count": null,
            "_view_module": "@jupyter-widgets/controls",
            "_view_module_version": "1.5.0",
            "_view_name": "HTMLView",
            "description": "",
            "description_tooltip": null,
            "layout": "IPY_MODEL_1451b526acf94ae5a311d442a8f5b7e1",
            "placeholder": "​",
            "style": "IPY_MODEL_4184e382e3964e558ff950976bf687f0",
            "value": " 695/695 [00:00&lt;00:00, 10.9kB/s]"
          }
        },
        "5a79ea7c3e9249b996cea04aec982f69": {
          "model_module": "@jupyter-widgets/base",
          "model_name": "LayoutModel",
          "model_module_version": "1.2.0",
          "state": {
            "_model_module": "@jupyter-widgets/base",
            "_model_module_version": "1.2.0",
            "_model_name": "LayoutModel",
            "_view_count": null,
            "_view_module": "@jupyter-widgets/base",
            "_view_module_version": "1.2.0",
            "_view_name": "LayoutView",
            "align_content": null,
            "align_items": null,
            "align_self": null,
            "border": null,
            "bottom": null,
            "display": null,
            "flex": null,
            "flex_flow": null,
            "grid_area": null,
            "grid_auto_columns": null,
            "grid_auto_flow": null,
            "grid_auto_rows": null,
            "grid_column": null,
            "grid_gap": null,
            "grid_row": null,
            "grid_template_areas": null,
            "grid_template_columns": null,
            "grid_template_rows": null,
            "height": null,
            "justify_content": null,
            "justify_items": null,
            "left": null,
            "margin": null,
            "max_height": null,
            "max_width": null,
            "min_height": null,
            "min_width": null,
            "object_fit": null,
            "object_position": null,
            "order": null,
            "overflow": null,
            "overflow_x": null,
            "overflow_y": null,
            "padding": null,
            "right": null,
            "top": null,
            "visibility": null,
            "width": null
          }
        },
        "9f88a8b64f72453d9153cd52ab30797c": {
          "model_module": "@jupyter-widgets/base",
          "model_name": "LayoutModel",
          "model_module_version": "1.2.0",
          "state": {
            "_model_module": "@jupyter-widgets/base",
            "_model_module_version": "1.2.0",
            "_model_name": "LayoutModel",
            "_view_count": null,
            "_view_module": "@jupyter-widgets/base",
            "_view_module_version": "1.2.0",
            "_view_name": "LayoutView",
            "align_content": null,
            "align_items": null,
            "align_self": null,
            "border": null,
            "bottom": null,
            "display": null,
            "flex": null,
            "flex_flow": null,
            "grid_area": null,
            "grid_auto_columns": null,
            "grid_auto_flow": null,
            "grid_auto_rows": null,
            "grid_column": null,
            "grid_gap": null,
            "grid_row": null,
            "grid_template_areas": null,
            "grid_template_columns": null,
            "grid_template_rows": null,
            "height": null,
            "justify_content": null,
            "justify_items": null,
            "left": null,
            "margin": null,
            "max_height": null,
            "max_width": null,
            "min_height": null,
            "min_width": null,
            "object_fit": null,
            "object_position": null,
            "order": null,
            "overflow": null,
            "overflow_x": null,
            "overflow_y": null,
            "padding": null,
            "right": null,
            "top": null,
            "visibility": null,
            "width": null
          }
        },
        "ecfd4c4bed8b449cb017ce90a4e3bbfb": {
          "model_module": "@jupyter-widgets/controls",
          "model_name": "DescriptionStyleModel",
          "model_module_version": "1.5.0",
          "state": {
            "_model_module": "@jupyter-widgets/controls",
            "_model_module_version": "1.5.0",
            "_model_name": "DescriptionStyleModel",
            "_view_count": null,
            "_view_module": "@jupyter-widgets/base",
            "_view_module_version": "1.2.0",
            "_view_name": "StyleView",
            "description_width": ""
          }
        },
        "fe32948348ae4ab49dca84a64ef788a0": {
          "model_module": "@jupyter-widgets/base",
          "model_name": "LayoutModel",
          "model_module_version": "1.2.0",
          "state": {
            "_model_module": "@jupyter-widgets/base",
            "_model_module_version": "1.2.0",
            "_model_name": "LayoutModel",
            "_view_count": null,
            "_view_module": "@jupyter-widgets/base",
            "_view_module_version": "1.2.0",
            "_view_name": "LayoutView",
            "align_content": null,
            "align_items": null,
            "align_self": null,
            "border": null,
            "bottom": null,
            "display": null,
            "flex": null,
            "flex_flow": null,
            "grid_area": null,
            "grid_auto_columns": null,
            "grid_auto_flow": null,
            "grid_auto_rows": null,
            "grid_column": null,
            "grid_gap": null,
            "grid_row": null,
            "grid_template_areas": null,
            "grid_template_columns": null,
            "grid_template_rows": null,
            "height": null,
            "justify_content": null,
            "justify_items": null,
            "left": null,
            "margin": null,
            "max_height": null,
            "max_width": null,
            "min_height": null,
            "min_width": null,
            "object_fit": null,
            "object_position": null,
            "order": null,
            "overflow": null,
            "overflow_x": null,
            "overflow_y": null,
            "padding": null,
            "right": null,
            "top": null,
            "visibility": null,
            "width": null
          }
        },
        "e4460d192fea4f0cbdc4684981fb8861": {
          "model_module": "@jupyter-widgets/controls",
          "model_name": "ProgressStyleModel",
          "model_module_version": "1.5.0",
          "state": {
            "_model_module": "@jupyter-widgets/controls",
            "_model_module_version": "1.5.0",
            "_model_name": "ProgressStyleModel",
            "_view_count": null,
            "_view_module": "@jupyter-widgets/base",
            "_view_module_version": "1.2.0",
            "_view_name": "StyleView",
            "bar_color": null,
            "description_width": ""
          }
        },
        "1451b526acf94ae5a311d442a8f5b7e1": {
          "model_module": "@jupyter-widgets/base",
          "model_name": "LayoutModel",
          "model_module_version": "1.2.0",
          "state": {
            "_model_module": "@jupyter-widgets/base",
            "_model_module_version": "1.2.0",
            "_model_name": "LayoutModel",
            "_view_count": null,
            "_view_module": "@jupyter-widgets/base",
            "_view_module_version": "1.2.0",
            "_view_name": "LayoutView",
            "align_content": null,
            "align_items": null,
            "align_self": null,
            "border": null,
            "bottom": null,
            "display": null,
            "flex": null,
            "flex_flow": null,
            "grid_area": null,
            "grid_auto_columns": null,
            "grid_auto_flow": null,
            "grid_auto_rows": null,
            "grid_column": null,
            "grid_gap": null,
            "grid_row": null,
            "grid_template_areas": null,
            "grid_template_columns": null,
            "grid_template_rows": null,
            "height": null,
            "justify_content": null,
            "justify_items": null,
            "left": null,
            "margin": null,
            "max_height": null,
            "max_width": null,
            "min_height": null,
            "min_width": null,
            "object_fit": null,
            "object_position": null,
            "order": null,
            "overflow": null,
            "overflow_x": null,
            "overflow_y": null,
            "padding": null,
            "right": null,
            "top": null,
            "visibility": null,
            "width": null
          }
        },
        "4184e382e3964e558ff950976bf687f0": {
          "model_module": "@jupyter-widgets/controls",
          "model_name": "DescriptionStyleModel",
          "model_module_version": "1.5.0",
          "state": {
            "_model_module": "@jupyter-widgets/controls",
            "_model_module_version": "1.5.0",
            "_model_name": "DescriptionStyleModel",
            "_view_count": null,
            "_view_module": "@jupyter-widgets/base",
            "_view_module_version": "1.2.0",
            "_view_name": "StyleView",
            "description_width": ""
          }
        },
        "e5f6adeeeeb24ab0a44fc7540838f7cd": {
          "model_module": "@jupyter-widgets/controls",
          "model_name": "HBoxModel",
          "model_module_version": "1.5.0",
          "state": {
            "_dom_classes": [],
            "_model_module": "@jupyter-widgets/controls",
            "_model_module_version": "1.5.0",
            "_model_name": "HBoxModel",
            "_view_count": null,
            "_view_module": "@jupyter-widgets/controls",
            "_view_module_version": "1.5.0",
            "_view_name": "HBoxView",
            "box_style": "",
            "children": [
              "IPY_MODEL_1dfdbc82175d4bf8907b9721d6b81eff",
              "IPY_MODEL_3774cbd610174657b73b6b24649ff9b6",
              "IPY_MODEL_7a6207ba34cb42129956b719cd8afd76"
            ],
            "layout": "IPY_MODEL_db9b3f03a1d04eb58d94018cbc1089bd"
          }
        },
        "1dfdbc82175d4bf8907b9721d6b81eff": {
          "model_module": "@jupyter-widgets/controls",
          "model_name": "HTMLModel",
          "model_module_version": "1.5.0",
          "state": {
            "_dom_classes": [],
            "_model_module": "@jupyter-widgets/controls",
            "_model_module_version": "1.5.0",
            "_model_name": "HTMLModel",
            "_view_count": null,
            "_view_module": "@jupyter-widgets/controls",
            "_view_module_version": "1.5.0",
            "_view_name": "HTMLView",
            "description": "",
            "description_tooltip": null,
            "layout": "IPY_MODEL_138d102d4b2042cc817236d3a1cde8fe",
            "placeholder": "​",
            "style": "IPY_MODEL_59dd12456649413599351207dfbb45dd",
            "value": "model_optimized.onnx: 100%"
          }
        },
        "3774cbd610174657b73b6b24649ff9b6": {
          "model_module": "@jupyter-widgets/controls",
          "model_name": "FloatProgressModel",
          "model_module_version": "1.5.0",
          "state": {
            "_dom_classes": [],
            "_model_module": "@jupyter-widgets/controls",
            "_model_module_version": "1.5.0",
            "_model_name": "FloatProgressModel",
            "_view_count": null,
            "_view_module": "@jupyter-widgets/controls",
            "_view_module_version": "1.5.0",
            "_view_name": "ProgressView",
            "bar_style": "success",
            "description": "",
            "description_tooltip": null,
            "layout": "IPY_MODEL_5754d5f6363f43528b861aa25249a01f",
            "max": 217824172,
            "min": 0,
            "orientation": "horizontal",
            "style": "IPY_MODEL_ca1cec6c16314a8a993586e53707fc64",
            "value": 217824172
          }
        },
        "7a6207ba34cb42129956b719cd8afd76": {
          "model_module": "@jupyter-widgets/controls",
          "model_name": "HTMLModel",
          "model_module_version": "1.5.0",
          "state": {
            "_dom_classes": [],
            "_model_module": "@jupyter-widgets/controls",
            "_model_module_version": "1.5.0",
            "_model_name": "HTMLModel",
            "_view_count": null,
            "_view_module": "@jupyter-widgets/controls",
            "_view_module_version": "1.5.0",
            "_view_name": "HTMLView",
            "description": "",
            "description_tooltip": null,
            "layout": "IPY_MODEL_568a334f5f75428d9b9faefd4a137df5",
            "placeholder": "​",
            "style": "IPY_MODEL_20b89579d83c4867b2bfe7ede5149500",
            "value": " 218M/218M [00:05&lt;00:00, 41.8MB/s]"
          }
        },
        "db9b3f03a1d04eb58d94018cbc1089bd": {
          "model_module": "@jupyter-widgets/base",
          "model_name": "LayoutModel",
          "model_module_version": "1.2.0",
          "state": {
            "_model_module": "@jupyter-widgets/base",
            "_model_module_version": "1.2.0",
            "_model_name": "LayoutModel",
            "_view_count": null,
            "_view_module": "@jupyter-widgets/base",
            "_view_module_version": "1.2.0",
            "_view_name": "LayoutView",
            "align_content": null,
            "align_items": null,
            "align_self": null,
            "border": null,
            "bottom": null,
            "display": null,
            "flex": null,
            "flex_flow": null,
            "grid_area": null,
            "grid_auto_columns": null,
            "grid_auto_flow": null,
            "grid_auto_rows": null,
            "grid_column": null,
            "grid_gap": null,
            "grid_row": null,
            "grid_template_areas": null,
            "grid_template_columns": null,
            "grid_template_rows": null,
            "height": null,
            "justify_content": null,
            "justify_items": null,
            "left": null,
            "margin": null,
            "max_height": null,
            "max_width": null,
            "min_height": null,
            "min_width": null,
            "object_fit": null,
            "object_position": null,
            "order": null,
            "overflow": null,
            "overflow_x": null,
            "overflow_y": null,
            "padding": null,
            "right": null,
            "top": null,
            "visibility": null,
            "width": null
          }
        },
        "138d102d4b2042cc817236d3a1cde8fe": {
          "model_module": "@jupyter-widgets/base",
          "model_name": "LayoutModel",
          "model_module_version": "1.2.0",
          "state": {
            "_model_module": "@jupyter-widgets/base",
            "_model_module_version": "1.2.0",
            "_model_name": "LayoutModel",
            "_view_count": null,
            "_view_module": "@jupyter-widgets/base",
            "_view_module_version": "1.2.0",
            "_view_name": "LayoutView",
            "align_content": null,
            "align_items": null,
            "align_self": null,
            "border": null,
            "bottom": null,
            "display": null,
            "flex": null,
            "flex_flow": null,
            "grid_area": null,
            "grid_auto_columns": null,
            "grid_auto_flow": null,
            "grid_auto_rows": null,
            "grid_column": null,
            "grid_gap": null,
            "grid_row": null,
            "grid_template_areas": null,
            "grid_template_columns": null,
            "grid_template_rows": null,
            "height": null,
            "justify_content": null,
            "justify_items": null,
            "left": null,
            "margin": null,
            "max_height": null,
            "max_width": null,
            "min_height": null,
            "min_width": null,
            "object_fit": null,
            "object_position": null,
            "order": null,
            "overflow": null,
            "overflow_x": null,
            "overflow_y": null,
            "padding": null,
            "right": null,
            "top": null,
            "visibility": null,
            "width": null
          }
        },
        "59dd12456649413599351207dfbb45dd": {
          "model_module": "@jupyter-widgets/controls",
          "model_name": "DescriptionStyleModel",
          "model_module_version": "1.5.0",
          "state": {
            "_model_module": "@jupyter-widgets/controls",
            "_model_module_version": "1.5.0",
            "_model_name": "DescriptionStyleModel",
            "_view_count": null,
            "_view_module": "@jupyter-widgets/base",
            "_view_module_version": "1.2.0",
            "_view_name": "StyleView",
            "description_width": ""
          }
        },
        "5754d5f6363f43528b861aa25249a01f": {
          "model_module": "@jupyter-widgets/base",
          "model_name": "LayoutModel",
          "model_module_version": "1.2.0",
          "state": {
            "_model_module": "@jupyter-widgets/base",
            "_model_module_version": "1.2.0",
            "_model_name": "LayoutModel",
            "_view_count": null,
            "_view_module": "@jupyter-widgets/base",
            "_view_module_version": "1.2.0",
            "_view_name": "LayoutView",
            "align_content": null,
            "align_items": null,
            "align_self": null,
            "border": null,
            "bottom": null,
            "display": null,
            "flex": null,
            "flex_flow": null,
            "grid_area": null,
            "grid_auto_columns": null,
            "grid_auto_flow": null,
            "grid_auto_rows": null,
            "grid_column": null,
            "grid_gap": null,
            "grid_row": null,
            "grid_template_areas": null,
            "grid_template_columns": null,
            "grid_template_rows": null,
            "height": null,
            "justify_content": null,
            "justify_items": null,
            "left": null,
            "margin": null,
            "max_height": null,
            "max_width": null,
            "min_height": null,
            "min_width": null,
            "object_fit": null,
            "object_position": null,
            "order": null,
            "overflow": null,
            "overflow_x": null,
            "overflow_y": null,
            "padding": null,
            "right": null,
            "top": null,
            "visibility": null,
            "width": null
          }
        },
        "ca1cec6c16314a8a993586e53707fc64": {
          "model_module": "@jupyter-widgets/controls",
          "model_name": "ProgressStyleModel",
          "model_module_version": "1.5.0",
          "state": {
            "_model_module": "@jupyter-widgets/controls",
            "_model_module_version": "1.5.0",
            "_model_name": "ProgressStyleModel",
            "_view_count": null,
            "_view_module": "@jupyter-widgets/base",
            "_view_module_version": "1.2.0",
            "_view_name": "StyleView",
            "bar_color": null,
            "description_width": ""
          }
        },
        "568a334f5f75428d9b9faefd4a137df5": {
          "model_module": "@jupyter-widgets/base",
          "model_name": "LayoutModel",
          "model_module_version": "1.2.0",
          "state": {
            "_model_module": "@jupyter-widgets/base",
            "_model_module_version": "1.2.0",
            "_model_name": "LayoutModel",
            "_view_count": null,
            "_view_module": "@jupyter-widgets/base",
            "_view_module_version": "1.2.0",
            "_view_name": "LayoutView",
            "align_content": null,
            "align_items": null,
            "align_self": null,
            "border": null,
            "bottom": null,
            "display": null,
            "flex": null,
            "flex_flow": null,
            "grid_area": null,
            "grid_auto_columns": null,
            "grid_auto_flow": null,
            "grid_auto_rows": null,
            "grid_column": null,
            "grid_gap": null,
            "grid_row": null,
            "grid_template_areas": null,
            "grid_template_columns": null,
            "grid_template_rows": null,
            "height": null,
            "justify_content": null,
            "justify_items": null,
            "left": null,
            "margin": null,
            "max_height": null,
            "max_width": null,
            "min_height": null,
            "min_width": null,
            "object_fit": null,
            "object_position": null,
            "order": null,
            "overflow": null,
            "overflow_x": null,
            "overflow_y": null,
            "padding": null,
            "right": null,
            "top": null,
            "visibility": null,
            "width": null
          }
        },
        "20b89579d83c4867b2bfe7ede5149500": {
          "model_module": "@jupyter-widgets/controls",
          "model_name": "DescriptionStyleModel",
          "model_module_version": "1.5.0",
          "state": {
            "_model_module": "@jupyter-widgets/controls",
            "_model_module_version": "1.5.0",
            "_model_name": "DescriptionStyleModel",
            "_view_count": null,
            "_view_module": "@jupyter-widgets/base",
            "_view_module_version": "1.2.0",
            "_view_name": "StyleView",
            "description_width": ""
          }
        },
        "bb61db96a0c343d8a5cb501eed5e7e77": {
          "model_module": "@jupyter-widgets/controls",
          "model_name": "HBoxModel",
          "model_module_version": "1.5.0",
          "state": {
            "_dom_classes": [],
            "_model_module": "@jupyter-widgets/controls",
            "_model_module_version": "1.5.0",
            "_model_name": "HBoxModel",
            "_view_count": null,
            "_view_module": "@jupyter-widgets/controls",
            "_view_module_version": "1.5.0",
            "_view_name": "HBoxView",
            "box_style": "",
            "children": [
              "IPY_MODEL_cc6eb823056e43579a370c9c3b723976",
              "IPY_MODEL_42c89f7141b74f648afd023e3c9fb058",
              "IPY_MODEL_9e458a47b0e84355afd93277c861fb3d"
            ],
            "layout": "IPY_MODEL_dce294a3ed724ff3bd29c757f4abe56c"
          }
        },
        "cc6eb823056e43579a370c9c3b723976": {
          "model_module": "@jupyter-widgets/controls",
          "model_name": "HTMLModel",
          "model_module_version": "1.5.0",
          "state": {
            "_dom_classes": [],
            "_model_module": "@jupyter-widgets/controls",
            "_model_module_version": "1.5.0",
            "_model_name": "HTMLModel",
            "_view_count": null,
            "_view_module": "@jupyter-widgets/controls",
            "_view_module_version": "1.5.0",
            "_view_name": "HTMLView",
            "description": "",
            "description_tooltip": null,
            "layout": "IPY_MODEL_7ba66f09236e4fbf96fb7711339b609f",
            "placeholder": "​",
            "style": "IPY_MODEL_0795a3b929c54faf88665c6f626e5f10",
            "value": "tokenizer_config.json: 100%"
          }
        },
        "42c89f7141b74f648afd023e3c9fb058": {
          "model_module": "@jupyter-widgets/controls",
          "model_name": "FloatProgressModel",
          "model_module_version": "1.5.0",
          "state": {
            "_dom_classes": [],
            "_model_module": "@jupyter-widgets/controls",
            "_model_module_version": "1.5.0",
            "_model_name": "FloatProgressModel",
            "_view_count": null,
            "_view_module": "@jupyter-widgets/controls",
            "_view_module_version": "1.5.0",
            "_view_name": "ProgressView",
            "bar_style": "success",
            "description": "",
            "description_tooltip": null,
            "layout": "IPY_MODEL_94341cd04779498484246b6d60f81268",
            "max": 1242,
            "min": 0,
            "orientation": "horizontal",
            "style": "IPY_MODEL_93add0d95a6c48e0a4b5a96e200975fe",
            "value": 1242
          }
        },
        "9e458a47b0e84355afd93277c861fb3d": {
          "model_module": "@jupyter-widgets/controls",
          "model_name": "HTMLModel",
          "model_module_version": "1.5.0",
          "state": {
            "_dom_classes": [],
            "_model_module": "@jupyter-widgets/controls",
            "_model_module_version": "1.5.0",
            "_model_name": "HTMLModel",
            "_view_count": null,
            "_view_module": "@jupyter-widgets/controls",
            "_view_module_version": "1.5.0",
            "_view_name": "HTMLView",
            "description": "",
            "description_tooltip": null,
            "layout": "IPY_MODEL_0fd0eacb6fb54320b9744ee07905c04b",
            "placeholder": "​",
            "style": "IPY_MODEL_2d5b83312f444fd88f9f92c9d8c9ef3e",
            "value": " 1.24k/1.24k [00:00&lt;00:00, 18.5kB/s]"
          }
        },
        "dce294a3ed724ff3bd29c757f4abe56c": {
          "model_module": "@jupyter-widgets/base",
          "model_name": "LayoutModel",
          "model_module_version": "1.2.0",
          "state": {
            "_model_module": "@jupyter-widgets/base",
            "_model_module_version": "1.2.0",
            "_model_name": "LayoutModel",
            "_view_count": null,
            "_view_module": "@jupyter-widgets/base",
            "_view_module_version": "1.2.0",
            "_view_name": "LayoutView",
            "align_content": null,
            "align_items": null,
            "align_self": null,
            "border": null,
            "bottom": null,
            "display": null,
            "flex": null,
            "flex_flow": null,
            "grid_area": null,
            "grid_auto_columns": null,
            "grid_auto_flow": null,
            "grid_auto_rows": null,
            "grid_column": null,
            "grid_gap": null,
            "grid_row": null,
            "grid_template_areas": null,
            "grid_template_columns": null,
            "grid_template_rows": null,
            "height": null,
            "justify_content": null,
            "justify_items": null,
            "left": null,
            "margin": null,
            "max_height": null,
            "max_width": null,
            "min_height": null,
            "min_width": null,
            "object_fit": null,
            "object_position": null,
            "order": null,
            "overflow": null,
            "overflow_x": null,
            "overflow_y": null,
            "padding": null,
            "right": null,
            "top": null,
            "visibility": null,
            "width": null
          }
        },
        "7ba66f09236e4fbf96fb7711339b609f": {
          "model_module": "@jupyter-widgets/base",
          "model_name": "LayoutModel",
          "model_module_version": "1.2.0",
          "state": {
            "_model_module": "@jupyter-widgets/base",
            "_model_module_version": "1.2.0",
            "_model_name": "LayoutModel",
            "_view_count": null,
            "_view_module": "@jupyter-widgets/base",
            "_view_module_version": "1.2.0",
            "_view_name": "LayoutView",
            "align_content": null,
            "align_items": null,
            "align_self": null,
            "border": null,
            "bottom": null,
            "display": null,
            "flex": null,
            "flex_flow": null,
            "grid_area": null,
            "grid_auto_columns": null,
            "grid_auto_flow": null,
            "grid_auto_rows": null,
            "grid_column": null,
            "grid_gap": null,
            "grid_row": null,
            "grid_template_areas": null,
            "grid_template_columns": null,
            "grid_template_rows": null,
            "height": null,
            "justify_content": null,
            "justify_items": null,
            "left": null,
            "margin": null,
            "max_height": null,
            "max_width": null,
            "min_height": null,
            "min_width": null,
            "object_fit": null,
            "object_position": null,
            "order": null,
            "overflow": null,
            "overflow_x": null,
            "overflow_y": null,
            "padding": null,
            "right": null,
            "top": null,
            "visibility": null,
            "width": null
          }
        },
        "0795a3b929c54faf88665c6f626e5f10": {
          "model_module": "@jupyter-widgets/controls",
          "model_name": "DescriptionStyleModel",
          "model_module_version": "1.5.0",
          "state": {
            "_model_module": "@jupyter-widgets/controls",
            "_model_module_version": "1.5.0",
            "_model_name": "DescriptionStyleModel",
            "_view_count": null,
            "_view_module": "@jupyter-widgets/base",
            "_view_module_version": "1.2.0",
            "_view_name": "StyleView",
            "description_width": ""
          }
        },
        "94341cd04779498484246b6d60f81268": {
          "model_module": "@jupyter-widgets/base",
          "model_name": "LayoutModel",
          "model_module_version": "1.2.0",
          "state": {
            "_model_module": "@jupyter-widgets/base",
            "_model_module_version": "1.2.0",
            "_model_name": "LayoutModel",
            "_view_count": null,
            "_view_module": "@jupyter-widgets/base",
            "_view_module_version": "1.2.0",
            "_view_name": "LayoutView",
            "align_content": null,
            "align_items": null,
            "align_self": null,
            "border": null,
            "bottom": null,
            "display": null,
            "flex": null,
            "flex_flow": null,
            "grid_area": null,
            "grid_auto_columns": null,
            "grid_auto_flow": null,
            "grid_auto_rows": null,
            "grid_column": null,
            "grid_gap": null,
            "grid_row": null,
            "grid_template_areas": null,
            "grid_template_columns": null,
            "grid_template_rows": null,
            "height": null,
            "justify_content": null,
            "justify_items": null,
            "left": null,
            "margin": null,
            "max_height": null,
            "max_width": null,
            "min_height": null,
            "min_width": null,
            "object_fit": null,
            "object_position": null,
            "order": null,
            "overflow": null,
            "overflow_x": null,
            "overflow_y": null,
            "padding": null,
            "right": null,
            "top": null,
            "visibility": null,
            "width": null
          }
        },
        "93add0d95a6c48e0a4b5a96e200975fe": {
          "model_module": "@jupyter-widgets/controls",
          "model_name": "ProgressStyleModel",
          "model_module_version": "1.5.0",
          "state": {
            "_model_module": "@jupyter-widgets/controls",
            "_model_module_version": "1.5.0",
            "_model_name": "ProgressStyleModel",
            "_view_count": null,
            "_view_module": "@jupyter-widgets/base",
            "_view_module_version": "1.2.0",
            "_view_name": "StyleView",
            "bar_color": null,
            "description_width": ""
          }
        },
        "0fd0eacb6fb54320b9744ee07905c04b": {
          "model_module": "@jupyter-widgets/base",
          "model_name": "LayoutModel",
          "model_module_version": "1.2.0",
          "state": {
            "_model_module": "@jupyter-widgets/base",
            "_model_module_version": "1.2.0",
            "_model_name": "LayoutModel",
            "_view_count": null,
            "_view_module": "@jupyter-widgets/base",
            "_view_module_version": "1.2.0",
            "_view_name": "LayoutView",
            "align_content": null,
            "align_items": null,
            "align_self": null,
            "border": null,
            "bottom": null,
            "display": null,
            "flex": null,
            "flex_flow": null,
            "grid_area": null,
            "grid_auto_columns": null,
            "grid_auto_flow": null,
            "grid_auto_rows": null,
            "grid_column": null,
            "grid_gap": null,
            "grid_row": null,
            "grid_template_areas": null,
            "grid_template_columns": null,
            "grid_template_rows": null,
            "height": null,
            "justify_content": null,
            "justify_items": null,
            "left": null,
            "margin": null,
            "max_height": null,
            "max_width": null,
            "min_height": null,
            "min_width": null,
            "object_fit": null,
            "object_position": null,
            "order": null,
            "overflow": null,
            "overflow_x": null,
            "overflow_y": null,
            "padding": null,
            "right": null,
            "top": null,
            "visibility": null,
            "width": null
          }
        },
        "2d5b83312f444fd88f9f92c9d8c9ef3e": {
          "model_module": "@jupyter-widgets/controls",
          "model_name": "DescriptionStyleModel",
          "model_module_version": "1.5.0",
          "state": {
            "_model_module": "@jupyter-widgets/controls",
            "_model_module_version": "1.5.0",
            "_model_name": "DescriptionStyleModel",
            "_view_count": null,
            "_view_module": "@jupyter-widgets/base",
            "_view_module_version": "1.2.0",
            "_view_name": "StyleView",
            "description_width": ""
          }
        }
      }
    },
    "kaggle": {
      "accelerator": "gpu",
      "dataSources": [],
      "dockerImageVersionId": 30699,
      "isInternetEnabled": true,
      "language": "python",
      "sourceType": "notebook",
      "isGpuEnabled": true
    }
  },
  "nbformat_minor": 0,
  "nbformat": 4,
  "cells": [
    {
      "cell_type": "markdown",
      "metadata": {
        "id": "view-in-github",
        "colab_type": "text"
      },
      "source": [
        "<a href=\"https://colab.research.google.com/github/nisargnegi/Sherlocked_RAG_Llama3_LlamaParse_Groq/blob/main/Sherlocked.ipynb\" target=\"_parent\"><img src=\"https://colab.research.google.com/assets/colab-badge.svg\" alt=\"Open In Colab\"/></a>"
      ]
    },
    {
      "cell_type": "code",
      "source": [
        "!pip -qqq install pip --progress-bar off\n",
        "!pip -qqq install langchain-groq==0.1.3 --progress-bar off\n",
        "!pip -qqq install langchain==0.1.17 --progress-bar off\n",
        "!pip -qqq install llama-parse==0.1.3 --progress-bar off\n",
        "!pip -qqq install qdrant-client==1.9.1  --progress-bar off\n",
        "!pip -qqq install \"unstructured[md]\"==0.13.6 --progress-bar off\n",
        "!pip -qqq install fastembed==0.2.7 --progress-bar off\n",
        "!pip -qqq install flashrank==0.2.4 --progress-bar off"
      ],
      "metadata": {
        "id": "3-wvIiFhkBYR",
        "colab": {
          "base_uri": "https://localhost:8080/"
        },
        "outputId": "dd851b6e-a585-41cc-dc92-e4c5290ddc22",
        "execution": {
          "iopub.status.busy": "2024-05-19T07:08:05.714432Z",
          "iopub.execute_input": "2024-05-19T07:08:05.714743Z",
          "iopub.status.idle": "2024-05-19T07:11:40.296811Z",
          "shell.execute_reply.started": "2024-05-19T07:08:05.714718Z",
          "shell.execute_reply": "2024-05-19T07:11:40.295574Z"
        },
        "trusted": true
      },
      "execution_count": 2,
      "outputs": [
        {
          "output_type": "stream",
          "name": "stdout",
          "text": [
            "\u001b[31mERROR: pip's dependency resolver does not currently take into account all the packages that are installed. This behaviour is the source of the following dependency conflicts.\n",
            "cudf-cu12 24.4.1 requires protobuf<5,>=3.20, but you have protobuf 5.26.1 which is incompatible.\n",
            "google-ai-generativelanguage 0.6.3 requires protobuf!=3.20.0,!=3.20.1,!=4.21.0,!=4.21.1,!=4.21.2,!=4.21.3,!=4.21.4,!=4.21.5,<5.0.0dev,>=3.19.5, but you have protobuf 5.26.1 which is incompatible.\n",
            "google-api-core 2.11.1 requires protobuf!=3.20.0,!=3.20.1,!=4.21.0,!=4.21.1,!=4.21.2,!=4.21.3,!=4.21.4,!=4.21.5,<5.0.0.dev0,>=3.19.5, but you have protobuf 5.26.1 which is incompatible.\n",
            "google-cloud-aiplatform 1.51.0 requires protobuf!=3.20.0,!=3.20.1,!=4.21.0,!=4.21.1,!=4.21.2,!=4.21.3,!=4.21.4,!=4.21.5,<5.0.0dev,>=3.19.5, but you have protobuf 5.26.1 which is incompatible.\n",
            "google-cloud-bigquery-connection 1.12.1 requires protobuf!=3.20.0,!=3.20.1,!=4.21.0,!=4.21.1,!=4.21.2,!=4.21.3,!=4.21.4,!=4.21.5,<5.0.0dev,>=3.19.5, but you have protobuf 5.26.1 which is incompatible.\n",
            "google-cloud-bigquery-storage 2.25.0 requires protobuf!=3.20.0,!=3.20.1,!=4.21.0,!=4.21.1,!=4.21.2,!=4.21.3,!=4.21.4,!=4.21.5,<5.0.0dev,>=3.19.5, but you have protobuf 5.26.1 which is incompatible.\n",
            "google-cloud-datastore 2.15.2 requires protobuf!=3.20.0,!=3.20.1,!=4.21.0,!=4.21.1,!=4.21.2,!=4.21.3,!=4.21.4,!=4.21.5,<5.0.0dev,>=3.19.5, but you have protobuf 5.26.1 which is incompatible.\n",
            "google-cloud-firestore 2.11.1 requires protobuf!=3.20.0,!=3.20.1,!=4.21.0,!=4.21.1,!=4.21.2,!=4.21.3,!=4.21.4,!=4.21.5,<5.0.0dev,>=3.19.5, but you have protobuf 5.26.1 which is incompatible.\n",
            "google-cloud-functions 1.13.3 requires protobuf!=3.20.0,!=3.20.1,!=4.21.0,!=4.21.1,!=4.21.2,!=4.21.3,!=4.21.4,!=4.21.5,<5.0.0dev,>=3.19.5, but you have protobuf 5.26.1 which is incompatible.\n",
            "google-cloud-iam 2.15.0 requires protobuf!=3.20.0,!=3.20.1,!=4.21.0,!=4.21.1,!=4.21.2,!=4.21.3,!=4.21.4,!=4.21.5,<5.0.0dev,>=3.19.5, but you have protobuf 5.26.1 which is incompatible.\n",
            "google-cloud-language 2.13.3 requires protobuf!=3.20.0,!=3.20.1,!=4.21.0,!=4.21.1,!=4.21.2,!=4.21.3,!=4.21.4,!=4.21.5,<5.0.0dev,>=3.19.5, but you have protobuf 5.26.1 which is incompatible.\n",
            "google-cloud-resource-manager 1.12.3 requires protobuf!=3.20.0,!=3.20.1,!=4.21.0,!=4.21.1,!=4.21.2,!=4.21.3,!=4.21.4,!=4.21.5,<5.0.0dev,>=3.19.5, but you have protobuf 5.26.1 which is incompatible.\n",
            "google-cloud-translate 3.11.3 requires protobuf!=3.20.0,!=3.20.1,!=4.21.0,!=4.21.1,!=4.21.2,!=4.21.3,!=4.21.4,!=4.21.5,<5.0.0dev,>=3.19.5, but you have protobuf 5.26.1 which is incompatible.\n",
            "googleapis-common-protos 1.63.0 requires protobuf!=3.20.0,!=3.20.1,!=4.21.1,!=4.21.2,!=4.21.3,!=4.21.4,!=4.21.5,<5.0.0.dev0,>=3.19.5, but you have protobuf 5.26.1 which is incompatible.\n",
            "grpc-google-iam-v1 0.13.0 requires protobuf!=3.20.0,!=3.20.1,!=4.21.1,!=4.21.2,!=4.21.3,!=4.21.4,!=4.21.5,<5.0.0dev,>=3.19.5, but you have protobuf 5.26.1 which is incompatible.\n",
            "proto-plus 1.23.0 requires protobuf<5.0.0dev,>=3.19.0, but you have protobuf 5.26.1 which is incompatible.\n",
            "tensorflow 2.15.0 requires protobuf!=4.21.0,!=4.21.1,!=4.21.2,!=4.21.3,!=4.21.4,!=4.21.5,<5.0.0dev,>=3.20.3, but you have protobuf 5.26.1 which is incompatible.\n",
            "tensorflow-metadata 1.15.0 requires protobuf<4.21,>=3.20.3; python_version < \"3.11\", but you have protobuf 5.26.1 which is incompatible.\u001b[0m\u001b[31m\n",
            "\u001b[0m  Preparing metadata (setup.py) ... \u001b[?25l\u001b[?25hdone\n",
            "  Building wheel for langdetect (setup.py) ... \u001b[?25l\u001b[?25hdone\n",
            "\u001b[31mERROR: pip's dependency resolver does not currently take into account all the packages that are installed. This behaviour is the source of the following dependency conflicts.\n",
            "transformers 4.40.2 requires tokenizers<0.20,>=0.19, but you have tokenizers 0.15.2 which is incompatible.\u001b[0m\u001b[31m\n",
            "\u001b[0m  Installing build dependencies ... \u001b[?25l\u001b[?25hdone\n",
            "  Getting requirements to build wheel ... \u001b[?25l\u001b[?25hdone\n",
            "  Installing backend dependencies ... \u001b[?25l\u001b[?25hdone\n",
            "  Preparing metadata (pyproject.toml) ... \u001b[?25l\u001b[?25hdone\n",
            "  Building wheel for llama-cpp-python (pyproject.toml) ... \u001b[?25l\u001b[?25hdone\n"
          ]
        }
      ]
    },
    {
      "cell_type": "code",
      "source": [
        "import os\n",
        "import textwrap\n",
        "from pathlib import Path\n",
        "\n",
        "from google.colab import userdata\n",
        "from IPython.display import Markdown\n",
        "from langchain.chains import RetrievalQA\n",
        "from langchain.prompts import PromptTemplate\n",
        "from langchain.retrievers import ContextualCompressionRetriever\n",
        "from langchain.retrievers.document_compressors import FlashrankRerank\n",
        "from langchain.text_splitter import RecursiveCharacterTextSplitter\n",
        "from langchain.vectorstores import Qdrant\n",
        "from langchain_community.document_loaders import UnstructuredMarkdownLoader\n",
        "from langchain_community.embeddings.fastembed import FastEmbedEmbeddings\n",
        "from langchain_core.prompts import ChatPromptTemplate\n",
        "from langchain_groq import ChatGroq\n",
        "from llama_parse import LlamaParse\n",
        "\n",
        "os.environ[\"GROQ_API_KEY\"] = userdata.get(\"GROQ_API_KEY\")\n",
        "\n",
        "\n",
        "def print_response(response):\n",
        "    response_txt = response[\"result\"]\n",
        "    for chunk in response_txt.split(\"\\n\"):\n",
        "        if not chunk:\n",
        "            print()\n",
        "            continue\n",
        "        print(\"\\n\".join(textwrap.wrap(chunk, 100, break_long_words=False)))"
      ],
      "metadata": {
        "id": "WH_J7_kol_ay"
      },
      "execution_count": 3,
      "outputs": []
    },
    {
      "cell_type": "code",
      "source": [
        "import requests\n",
        "from bs4 import BeautifulSoup\n",
        "import os\n",
        "from urllib.parse import urljoin\n",
        "from PyPDF2 import PdfMerger\n",
        "\n",
        "# URL of the webpage containing the PDF links\n",
        "url = 'https://sherlock-holm.es/pdf/a4/1-sided/'\n",
        "\n",
        "# Create directories to save the PDFs if they don't exist\n",
        "os.makedirs('sherlock_pdfs', exist_ok=True)\n",
        "os.makedirs('data', exist_ok=True)\n",
        "\n",
        "# Get the webpage content\n",
        "response = requests.get(url)\n",
        "response.raise_for_status()  # Check that the request was successful\n",
        "\n",
        "# Parse the webpage content\n",
        "soup = BeautifulSoup(response.content, 'html.parser')\n",
        "\n",
        "# Find all links to PDF files\n",
        "pdf_links = soup.find_all('a', href=True)\n",
        "pdf_urls = [link['href'] for link in pdf_links if link['href'].endswith('.pdf')]\n",
        "\n",
        "# Initialize the PdfMerger\n",
        "merger = PdfMerger()\n",
        "\n",
        "# Define the size limit (500KB)\n",
        "size_limit_kb = 500\n",
        "size_limit_bytes = size_limit_kb * 1024\n",
        "\n",
        "# Download each PDF and add to the merger\n",
        "for pdf_url in pdf_urls:\n",
        "    # Make the full URL if necessary\n",
        "    full_pdf_url = urljoin(url, pdf_url)\n",
        "\n",
        "    # Get the filename from the URL\n",
        "    filename = pdf_url.split('/')[-1]\n",
        "\n",
        "    # Download the PDF\n",
        "    print(f'Downloading {filename}...')\n",
        "    pdf_response = requests.get(full_pdf_url)\n",
        "    pdf_response.raise_for_status()\n",
        "\n",
        "    # Save the PDF to the directory\n",
        "    pdf_path = os.path.join('sherlock_pdfs', filename)\n",
        "    with open(pdf_path, 'wb') as f:\n",
        "        f.write(pdf_response.content)\n",
        "\n",
        "    # Check the size of the downloaded PDF\n",
        "    file_size = os.path.getsize(pdf_path)\n",
        "    if file_size > size_limit_bytes:\n",
        "        print(f'{filename} is larger than 500KB and will be skipped.')\n",
        "        os.remove(pdf_path)  # Remove the large file\n",
        "    else:\n",
        "        print(f'{filename} downloaded and added to the merger.')\n",
        "        # Add the PDF to the merger\n",
        "        merger.append(pdf_path)\n",
        "\n",
        "# Write out the merged PDF\n",
        "output_path = os.path.join('data', 'merged_sherlock.pdf')\n",
        "merger.write(output_path)\n",
        "merger.close()\n",
        "\n",
        "print(f'All PDFs under 500KB have been merged into {output_path}.')\n"
      ],
      "metadata": {
        "colab": {
          "base_uri": "https://localhost:8080/"
        },
        "id": "59M0lL4vjkGW",
        "outputId": "9d5b98c0-437a-40b5-f0a7-adffbeadeda9"
      },
      "execution_count": 6,
      "outputs": [
        {
          "output_type": "stream",
          "name": "stdout",
          "text": [
            "Downloading cano.pdf...\n",
            "cano.pdf is larger than 500KB and will be skipped.\n",
            "Downloading advs.pdf...\n",
            "advs.pdf is larger than 500KB and will be skipped.\n",
            "Downloading mems.pdf...\n",
            "mems.pdf is larger than 500KB and will be skipped.\n",
            "Downloading retn.pdf...\n",
            "retn.pdf is larger than 500KB and will be skipped.\n",
            "Downloading lstb.pdf...\n",
            "lstb.pdf is larger than 500KB and will be skipped.\n",
            "Downloading case.pdf...\n",
            "case.pdf is larger than 500KB and will be skipped.\n",
            "Downloading stud.pdf...\n",
            "stud.pdf downloaded and added to the merger.\n",
            "Downloading sign.pdf...\n",
            "sign.pdf downloaded and added to the merger.\n",
            "Downloading houn.pdf...\n",
            "houn.pdf downloaded and added to the merger.\n",
            "Downloading vall.pdf...\n",
            "vall.pdf downloaded and added to the merger.\n",
            "Downloading scan.pdf...\n",
            "scan.pdf downloaded and added to the merger.\n",
            "Downloading redh.pdf...\n",
            "redh.pdf downloaded and added to the merger.\n",
            "Downloading iden.pdf...\n",
            "iden.pdf downloaded and added to the merger.\n",
            "Downloading bosc.pdf...\n",
            "bosc.pdf downloaded and added to the merger.\n",
            "Downloading five.pdf...\n",
            "five.pdf downloaded and added to the merger.\n",
            "Downloading twis.pdf...\n",
            "twis.pdf downloaded and added to the merger.\n",
            "Downloading blue.pdf...\n",
            "blue.pdf downloaded and added to the merger.\n",
            "Downloading spec.pdf...\n",
            "spec.pdf downloaded and added to the merger.\n",
            "Downloading engr.pdf...\n",
            "engr.pdf downloaded and added to the merger.\n",
            "Downloading nobl.pdf...\n",
            "nobl.pdf downloaded and added to the merger.\n",
            "Downloading bery.pdf...\n",
            "bery.pdf downloaded and added to the merger.\n",
            "Downloading copp.pdf...\n",
            "copp.pdf downloaded and added to the merger.\n",
            "Downloading silv.pdf...\n",
            "silv.pdf downloaded and added to the merger.\n",
            "Downloading yell.pdf...\n",
            "yell.pdf downloaded and added to the merger.\n",
            "Downloading stoc.pdf...\n",
            "stoc.pdf downloaded and added to the merger.\n",
            "Downloading glor.pdf...\n",
            "glor.pdf downloaded and added to the merger.\n",
            "Downloading musg.pdf...\n",
            "musg.pdf downloaded and added to the merger.\n",
            "Downloading reig.pdf...\n",
            "reig.pdf downloaded and added to the merger.\n",
            "Downloading croo.pdf...\n",
            "croo.pdf downloaded and added to the merger.\n",
            "Downloading resi.pdf...\n",
            "resi.pdf downloaded and added to the merger.\n",
            "Downloading gree.pdf...\n",
            "gree.pdf downloaded and added to the merger.\n",
            "Downloading nava.pdf...\n",
            "nava.pdf downloaded and added to the merger.\n",
            "Downloading fina.pdf...\n",
            "fina.pdf downloaded and added to the merger.\n",
            "Downloading empt.pdf...\n",
            "empt.pdf downloaded and added to the merger.\n",
            "Downloading norw.pdf...\n",
            "norw.pdf downloaded and added to the merger.\n",
            "Downloading danc.pdf...\n",
            "danc.pdf downloaded and added to the merger.\n",
            "Downloading soli.pdf...\n",
            "soli.pdf downloaded and added to the merger.\n",
            "Downloading prio.pdf...\n",
            "prio.pdf downloaded and added to the merger.\n",
            "Downloading blac.pdf...\n",
            "blac.pdf downloaded and added to the merger.\n",
            "Downloading chas.pdf...\n",
            "chas.pdf downloaded and added to the merger.\n",
            "Downloading sixn.pdf...\n",
            "sixn.pdf downloaded and added to the merger.\n",
            "Downloading 3stu.pdf...\n",
            "3stu.pdf downloaded and added to the merger.\n",
            "Downloading gold.pdf...\n",
            "gold.pdf downloaded and added to the merger.\n",
            "Downloading miss.pdf...\n",
            "miss.pdf downloaded and added to the merger.\n",
            "Downloading abbe.pdf...\n",
            "abbe.pdf downloaded and added to the merger.\n",
            "Downloading seco.pdf...\n",
            "seco.pdf downloaded and added to the merger.\n",
            "Downloading wist.pdf...\n",
            "wist.pdf downloaded and added to the merger.\n",
            "Downloading card.pdf...\n",
            "card.pdf downloaded and added to the merger.\n",
            "Downloading redc.pdf...\n",
            "redc.pdf downloaded and added to the merger.\n",
            "Downloading bruc.pdf...\n",
            "bruc.pdf downloaded and added to the merger.\n",
            "Downloading dyin.pdf...\n",
            "dyin.pdf downloaded and added to the merger.\n",
            "Downloading lady.pdf...\n",
            "lady.pdf downloaded and added to the merger.\n",
            "Downloading devi.pdf...\n",
            "devi.pdf downloaded and added to the merger.\n",
            "Downloading last.pdf...\n",
            "last.pdf downloaded and added to the merger.\n",
            "Downloading illu.pdf...\n",
            "illu.pdf downloaded and added to the merger.\n",
            "Downloading blan.pdf...\n",
            "blan.pdf downloaded and added to the merger.\n",
            "Downloading maza.pdf...\n",
            "maza.pdf downloaded and added to the merger.\n",
            "Downloading 3gab.pdf...\n",
            "3gab.pdf downloaded and added to the merger.\n",
            "Downloading suss.pdf...\n",
            "suss.pdf downloaded and added to the merger.\n",
            "Downloading 3gar.pdf...\n",
            "3gar.pdf downloaded and added to the merger.\n",
            "Downloading thor.pdf...\n",
            "thor.pdf downloaded and added to the merger.\n",
            "Downloading cree.pdf...\n",
            "cree.pdf downloaded and added to the merger.\n",
            "Downloading lion.pdf...\n",
            "lion.pdf downloaded and added to the merger.\n",
            "Downloading veil.pdf...\n",
            "veil.pdf downloaded and added to the merger.\n",
            "Downloading shos.pdf...\n",
            "shos.pdf downloaded and added to the merger.\n",
            "Downloading reti.pdf...\n",
            "reti.pdf downloaded and added to the merger.\n",
            "All PDFs under 500KB have been merged into data/merged_sherlock.pdf.\n"
          ]
        }
      ]
    },
    {
      "cell_type": "code",
      "source": [],
      "metadata": {
        "id": "A-BL-G4pItJB"
      },
      "execution_count": null,
      "outputs": []
    },
    {
      "cell_type": "markdown",
      "source": [
        "## Document Parsing"
      ],
      "metadata": {
        "id": "z6kHJJRDvawJ"
      }
    },
    {
      "cell_type": "code",
      "source": [
        "instruction = \"\"\"The provided document is a Sherlock Holmes book.\n",
        "This text contains details about the characters, plot, and setting of a Sherlock Holmes story.\n",
        "It may include descriptions of crimes, investigations, and deductions.\n",
        "Try to focus on factual information and avoid subjective analysis.\"\"\"\n",
        "\n",
        "\n",
        "parser = LlamaParse(\n",
        "    api_key=userdata.get(\"LLAMA_PARSE\"),\n",
        "    result_type=\"markdown\",\n",
        "    parsing_instruction=instruction,\n",
        "    max_timeout=5000,\n",
        ")\n",
        "\n",
        "llama_parse_documents = await parser.aload_data(\"./data/merged_sherlock.pdf\",)"
      ],
      "metadata": {
        "colab": {
          "base_uri": "https://localhost:8080/"
        },
        "id": "eHRFF7lF0gV2",
        "outputId": "a37ff71f-c4f4-4a3b-bdde-9c538cc31407"
      },
      "execution_count": 7,
      "outputs": [
        {
          "output_type": "stream",
          "name": "stdout",
          "text": [
            "Started parsing the file under job_id 2a31452b-addd-4a9c-91b1-d2fbfb0bee45\n"
          ]
        }
      ]
    },
    {
      "cell_type": "code",
      "source": [
        "parsed_doc = llama_parse_documents[0]"
      ],
      "metadata": {
        "id": "tTm_9yk_nMD8"
      },
      "execution_count": 8,
      "outputs": []
    },
    {
      "cell_type": "code",
      "source": [
        "Markdown(parsed_doc.text[:4096])"
      ],
      "metadata": {
        "colab": {
          "base_uri": "https://localhost:8080/",
          "height": 1000
        },
        "id": "6acdg4sq736P",
        "outputId": "ae97db28-5de8-4b45-d12e-0beff7a0de77"
      },
      "execution_count": 9,
      "outputs": [
        {
          "output_type": "execute_result",
          "data": {
            "text/plain": [
              "<IPython.core.display.Markdown object>"
            ],
            "text/markdown": "A Study In Scarlet\n\nArthur Conan Doyle\n---\nThis text is provided to you “as-is” without any warranty. No warranties of any kind, expressed or implied, are made to you as to the text or any medium it may be on, including but not limited to warranties of merchantability or fitness for a particular purpose. This text was formatted from various free ASCII and HTML variants. See http://sherlock-holm.es for an electronic form of this text and additional information about it. This text comes from the collection’s version 3.1.\n---\n# Table of contents\n\n|Part I|Mr. Sherlock Holmes|5|\n|---|---|---|\n| |The Science Of Deduction|8|\n| |The Lauriston Garden Mystery|12|\n| |What John Rance Had To Tell|17|\n| |Our Advertisement Brings A Visitor|20|\n| |Tobias Gregson Shows What He Can Do|23|\n| |Light In The Darkness|27|\n|Part II|On The Great Alkali Plain|35|\n| |The Flower Of Utah|39|\n| |John Ferrier Talks With The Prophet|42|\n| |A Flight For Life|44|\n| |The Avenging Angels|48|\n| |A Continuation Of The Reminiscences Of John Watson, M.D.|52|\n\nThe Conclusion\n\n57\n---\n\n\n---\n# PART I.\n\n(Being a reprint from the reminiscences of John H. Watson, M.D., late of the Army Medical Department.)\n---\n\n\n---\n# CHAPTER I.\n\n# Mr. Sherlock Holmes\n\nIn the year 1878 I took my degree of Doctor of Medicine of the University of London, and proceeded to Netley to go through the course prescribed for surgeons in the army. Having completed my studies there, I was duly attached to the Fifth Northumberland Fusiliers as Assistant Surgeon. The regiment was stationed in India at the time, and before I could join it, the second Afghan war had broken out. On landing at Bombay, I learned that my corps had advanced through the passes, and was already deep in the enemy’s country. I followed, however, with many other officers who were in the same situation as myself, and succeeded in reaching Candahar in safety, where I found my regiment, and at once entered upon my new duties.\n\nThe campaign brought honours and promotion to many, but for me it had nothing but misfortune and disaster. I was removed from my brigade and attached to the Berkshires, with whom I served at the fatal battle of Maiwand. There I was struck on the shoulder by a Jezail bullet, which shattered the bone and grazed the subclavian artery. I should have fallen into the hands of the murderous Ghazis had it not been for the devotion and courage shown by Murray, my orderly, who threw me across a pack-horse, and succeeded in bringing me safely to the British lines.\n\nWorn with pain, and weak from the prolonged hardships which I had undergone, I was removed, with a great train of wounded sufferers, to the base hospital at Peshawar. Here I rallied, and had already improved so far as to be able to walk about the wards, and even to bask a little upon the verandah, when I was struck down by enteric fever, that curse of our Indian possessions. For months my life was despaired of, and when at last I came to myself and became convalescent, I was so weak and emaciated that a medical board determined that not a day should be lost in sending me back to England. I was dispatched, accordingly, in the troopship Orontes, and landed a month later on Portsmouth jetty, with my health irretrievably ruined, but with permission from a paternal government to spend the next nine months in attempting to improve it.\n\nI had neither kith nor kin in England, and was therefore as free as air—or as free as an income of eleven shillings and sixpence a day will permit a man to be. Under such circumstances, I naturally gravitated to London, that great cesspool into which all the loungers and idlers of the Empire are irresistibly drained. There I stayed for some time at a private hotel in the Strand, leading a comfortless, meaningless existence, and spending such money as I had, considerably more freely than I ought. So alarming did the state of my finances become, that I soon realized that I must either leave the metropolis and rusticate somewhere in the country, or that I must make a complete alteration in my style of living. Choosing the latter alte"
          },
          "metadata": {},
          "execution_count": 9
        }
      ]
    },
    {
      "cell_type": "code",
      "source": [
        "document_path = Path(\"data/parsed_document.md\")\n",
        "with document_path.open(\"a\") as f:\n",
        "    f.write(parsed_doc.text)"
      ],
      "metadata": {
        "id": "EUnDQkfwyPv3"
      },
      "execution_count": 10,
      "outputs": []
    },
    {
      "cell_type": "markdown",
      "source": [
        "## Vector Embeddings"
      ],
      "metadata": {
        "id": "yF5y2-L0vfLM"
      }
    },
    {
      "cell_type": "code",
      "source": [
        "loader = UnstructuredMarkdownLoader(document_path)\n",
        "loaded_documents = loader.load()"
      ],
      "metadata": {
        "colab": {
          "base_uri": "https://localhost:8080/"
        },
        "id": "R9Hl1Uly3LtB",
        "outputId": "a3044e46-a51a-40e1-88fa-deab61002f21"
      },
      "execution_count": 11,
      "outputs": [
        {
          "output_type": "stream",
          "name": "stderr",
          "text": [
            "[nltk_data] Downloading package averaged_perceptron_tagger to\n",
            "[nltk_data]     /root/nltk_data...\n",
            "[nltk_data]   Unzipping taggers/averaged_perceptron_tagger.zip.\n"
          ]
        }
      ]
    },
    {
      "cell_type": "code",
      "source": [
        "text_splitter = RecursiveCharacterTextSplitter(chunk_size=2048, chunk_overlap=128)\n",
        "docs = text_splitter.split_documents(loaded_documents)\n",
        "len(docs)"
      ],
      "metadata": {
        "colab": {
          "base_uri": "https://localhost:8080/"
        },
        "id": "_ZrQ4sKg4hxF",
        "outputId": "d695c59a-09a4-4a08-c3d1-fa6c1451f9f5"
      },
      "execution_count": 12,
      "outputs": [
        {
          "output_type": "execute_result",
          "data": {
            "text/plain": [
              "2001"
            ]
          },
          "metadata": {},
          "execution_count": 12
        }
      ]
    },
    {
      "cell_type": "code",
      "source": [
        "print(docs[0].page_content)"
      ],
      "metadata": {
        "colab": {
          "base_uri": "https://localhost:8080/"
        },
        "id": "RdBs9l3a4jCv",
        "outputId": "0ea3f0f6-578b-4821-c159-3d3c002cca70"
      },
      "execution_count": 13,
      "outputs": [
        {
          "output_type": "stream",
          "name": "stdout",
          "text": [
            "A Study In Scarlet\n",
            "\n",
            "Arthur Conan Doyle\n",
            "\n",
            "This text is provided to you “as-is” without any warranty. No warranties of any kind, expressed or implied, are made to you as to the text or any medium it may be on, including but not limited to warranties of merchantability or fitness for a particular purpose. This text was formatted from various free ASCII and HTML variants. See http://sherlock-holm.es for an electronic form of this text and additional information about it. This text comes from the collection’s version 3.1.\n",
            "\n",
            "Table of contents\n",
            "\n",
            "Part I Mr. Sherlock Holmes 5 The Science Of Deduction 8 The Lauriston Garden Mystery 12 What John Rance Had To Tell 17 Our Advertisement Brings A Visitor 20 Tobias Gregson Shows What He Can Do 23 Light In The Darkness 27 Part II On The Great Alkali Plain 35 The Flower Of Utah 39 John Ferrier Talks With The Prophet 42 A Flight For Life 44 The Avenging Angels 48 A Continuation Of The Reminiscences Of John Watson, M.D. 52\n",
            "\n",
            "The Conclusion\n",
            "\n",
            "57\n",
            "\n",
            "PART I.\n",
            "\n",
            "(Being a reprint from the reminiscences of John H. Watson, M.D., late of the Army Medical Department.)\n",
            "\n",
            "CHAPTER I.\n",
            "\n",
            "Mr. Sherlock Holmes\n",
            "\n",
            "In the year 1878 I took my degree of Doctor of Medicine of the University of London, and proceeded to Netley to go through the course prescribed for surgeons in the army. Having completed my studies there, I was duly attached to the Fifth Northumberland Fusiliers as Assistant Surgeon. The regiment was stationed in India at the time, and before I could join it, the second Afghan war had broken out. On landing at Bombay, I learned that my corps had advanced through the passes, and was already deep in the enemy’s country. I followed, however, with many other officers who were in the same situation as myself, and succeeded in reaching Candahar in safety, where I found my regiment, and at once entered upon my new duties.\n"
          ]
        }
      ]
    },
    {
      "cell_type": "code",
      "source": [
        "embeddings = FastEmbedEmbeddings(model_name=\"BAAI/bge-base-en-v1.5\")"
      ],
      "metadata": {
        "colab": {
          "base_uri": "https://localhost:8080/",
          "height": 333,
          "referenced_widgets": [
            "83e7cd6bb3544d19a1d3104ef28d682c",
            "9ff56ae8769d406c95cbcf6e079d3a09",
            "add548b27b76422b830a1b4943b9afd2",
            "10a47de7d31441cd89b726a913e735c8",
            "78f75d06bbeb43ba9ae4f521bd77030e",
            "728c613a18ce43f189291d2c723390d1",
            "e5a74a05adce46258482a655c1a8ebfa",
            "5ce6a776ef17475ba8422243fc0767a6",
            "dd6377a1abc14e1bb3c9021003e2a4c8",
            "beb6384c66b1411484e679847c638239",
            "592086cead7f414990c64e032158d88a",
            "d9162bf66e5a4e8f8c499565adfd1d0f",
            "7a5651cb326d45d090b5c9f66d2636e7",
            "82db3147de844a5ba36e84b14c68faa7",
            "9869fc9fabfa46eb9e71ccba4b31b1e9",
            "b079fa8d5ade4b6fb9be8a38f4a928c6",
            "f87e3d5ed16e452cada3374a73bd63fe",
            "db56c5554ed14a3187fafc1e115a07eb",
            "a24a2e0b1967475f90a4875d3e7fd073",
            "ba97053142b7447a97df434ec093c3f0",
            "51a8cd104f17479fb7da926e5822619f",
            "d7c13076debb46e5ae0fa0c45b5f4441",
            "7a23e6dac2e8491c94c0bfb383360542",
            "530a558a1179404bafb0f94f77a50885",
            "8805aadc9f704d6ca8a28978993e0976",
            "64dd8ae9f2eb4afcbdb1622749cd98e7",
            "ebc86b9097fc42a6912cc788ffe57550",
            "af0ad5cd9a124855b255cbe603ba0081",
            "6cf21fed5e024bfbad905dc1753867d2",
            "3b5ea2243b1d47a386e2ea768f8b1a08",
            "ce48eff2e55645469c77169189c40f3b",
            "c21e3d777897412eb1912ae0792d5c54",
            "f28f4d4a1bda45b0ae28fc22218ef75f",
            "313b2126698a4cdab025f57cbf734531",
            "da73b50c2f3b46c9967650d75a69a87e",
            "43e39661c9834a3b9923da2062fc05a4",
            "5e136de40b2f4e0baafcebcf5896b282",
            "5a79ea7c3e9249b996cea04aec982f69",
            "9f88a8b64f72453d9153cd52ab30797c",
            "ecfd4c4bed8b449cb017ce90a4e3bbfb",
            "fe32948348ae4ab49dca84a64ef788a0",
            "e4460d192fea4f0cbdc4684981fb8861",
            "1451b526acf94ae5a311d442a8f5b7e1",
            "4184e382e3964e558ff950976bf687f0",
            "e5f6adeeeeb24ab0a44fc7540838f7cd",
            "1dfdbc82175d4bf8907b9721d6b81eff",
            "3774cbd610174657b73b6b24649ff9b6",
            "7a6207ba34cb42129956b719cd8afd76",
            "db9b3f03a1d04eb58d94018cbc1089bd",
            "138d102d4b2042cc817236d3a1cde8fe",
            "59dd12456649413599351207dfbb45dd",
            "5754d5f6363f43528b861aa25249a01f",
            "ca1cec6c16314a8a993586e53707fc64",
            "568a334f5f75428d9b9faefd4a137df5",
            "20b89579d83c4867b2bfe7ede5149500",
            "bb61db96a0c343d8a5cb501eed5e7e77",
            "cc6eb823056e43579a370c9c3b723976",
            "42c89f7141b74f648afd023e3c9fb058",
            "9e458a47b0e84355afd93277c861fb3d",
            "dce294a3ed724ff3bd29c757f4abe56c",
            "7ba66f09236e4fbf96fb7711339b609f",
            "0795a3b929c54faf88665c6f626e5f10",
            "94341cd04779498484246b6d60f81268",
            "93add0d95a6c48e0a4b5a96e200975fe",
            "0fd0eacb6fb54320b9744ee07905c04b",
            "2d5b83312f444fd88f9f92c9d8c9ef3e"
          ]
        },
        "id": "8cUnzAwi-iNE",
        "outputId": "4f0a4d2e-d40d-4c53-eb56-ca6fad83614d"
      },
      "execution_count": 14,
      "outputs": [
        {
          "output_type": "stream",
          "name": "stderr",
          "text": [
            "/usr/local/lib/python3.10/dist-packages/huggingface_hub/utils/_token.py:88: UserWarning: \n",
            "The secret `HF_TOKEN` does not exist in your Colab secrets.\n",
            "To authenticate with the Hugging Face Hub, create a token in your settings tab (https://huggingface.co/settings/tokens), set it as secret in your Google Colab and restart your session.\n",
            "You will be able to reuse this secret in all of your notebooks.\n",
            "Please note that authentication is recommended but still optional to access public models or datasets.\n",
            "  warnings.warn(\n"
          ]
        },
        {
          "output_type": "display_data",
          "data": {
            "text/plain": [
              "Fetching 5 files:   0%|          | 0/5 [00:00<?, ?it/s]"
            ],
            "application/vnd.jupyter.widget-view+json": {
              "version_major": 2,
              "version_minor": 0,
              "model_id": "83e7cd6bb3544d19a1d3104ef28d682c"
            }
          },
          "metadata": {}
        },
        {
          "output_type": "display_data",
          "data": {
            "text/plain": [
              "tokenizer.json:   0%|          | 0.00/711k [00:00<?, ?B/s]"
            ],
            "application/vnd.jupyter.widget-view+json": {
              "version_major": 2,
              "version_minor": 0,
              "model_id": "d9162bf66e5a4e8f8c499565adfd1d0f"
            }
          },
          "metadata": {}
        },
        {
          "output_type": "display_data",
          "data": {
            "text/plain": [
              "config.json:   0%|          | 0.00/740 [00:00<?, ?B/s]"
            ],
            "application/vnd.jupyter.widget-view+json": {
              "version_major": 2,
              "version_minor": 0,
              "model_id": "7a23e6dac2e8491c94c0bfb383360542"
            }
          },
          "metadata": {}
        },
        {
          "output_type": "display_data",
          "data": {
            "text/plain": [
              "special_tokens_map.json:   0%|          | 0.00/695 [00:00<?, ?B/s]"
            ],
            "application/vnd.jupyter.widget-view+json": {
              "version_major": 2,
              "version_minor": 0,
              "model_id": "313b2126698a4cdab025f57cbf734531"
            }
          },
          "metadata": {}
        },
        {
          "output_type": "display_data",
          "data": {
            "text/plain": [
              "model_optimized.onnx:   0%|          | 0.00/218M [00:00<?, ?B/s]"
            ],
            "application/vnd.jupyter.widget-view+json": {
              "version_major": 2,
              "version_minor": 0,
              "model_id": "e5f6adeeeeb24ab0a44fc7540838f7cd"
            }
          },
          "metadata": {}
        },
        {
          "output_type": "display_data",
          "data": {
            "text/plain": [
              "tokenizer_config.json:   0%|          | 0.00/1.24k [00:00<?, ?B/s]"
            ],
            "application/vnd.jupyter.widget-view+json": {
              "version_major": 2,
              "version_minor": 0,
              "model_id": "bb61db96a0c343d8a5cb501eed5e7e77"
            }
          },
          "metadata": {}
        }
      ]
    },
    {
      "cell_type": "code",
      "source": [],
      "metadata": {
        "id": "PQrj58p3eHiD"
      },
      "execution_count": null,
      "outputs": []
    },
    {
      "cell_type": "code",
      "source": [
        "qdrant = Qdrant.from_documents(\n",
        "    docs,\n",
        "    embeddings,\n",
        "    # location=\":memory:\",\n",
        "    path=\"./db\",\n",
        "    collection_name=\"document_embeddings\",\n",
        ")"
      ],
      "metadata": {
        "id": "fSh39w9H9fPU"
      },
      "execution_count": 15,
      "outputs": []
    },
    {
      "cell_type": "code",
      "source": [
        "%%time\n",
        "query = \"What is the most difficult case solved by Sherlock?\"\n",
        "similar_docs = qdrant.similarity_search_with_score(query)"
      ],
      "metadata": {
        "id": "zBBp64Dy_5hw",
        "colab": {
          "base_uri": "https://localhost:8080/"
        },
        "outputId": "a17ad1dc-4c6c-46dd-f18b-a5c2ceb736e9"
      },
      "execution_count": 16,
      "outputs": [
        {
          "output_type": "stream",
          "name": "stdout",
          "text": [
            "CPU times: user 260 ms, sys: 16 ms, total: 276 ms\n",
            "Wall time: 283 ms\n"
          ]
        }
      ]
    },
    {
      "cell_type": "code",
      "source": [
        "for doc, score in similar_docs:\n",
        "    print(f\"text: {doc.page_content[:256]}\\n\")\n",
        "    print(f\"score: {score}\")\n",
        "    print(\"-\" * 80)\n",
        "    print()"
      ],
      "metadata": {
        "colab": {
          "base_uri": "https://localhost:8080/"
        },
        "id": "R0vjJsDapHD4",
        "outputId": "2389d9ff-ffea-46b9-f9c5-6b89d87de8c4"
      },
      "execution_count": 17,
      "outputs": [
        {
          "output_type": "stream",
          "name": "stdout",
          "text": [
            "text: it were only so.\" \"What is it, Mr. Holmes? Have you a clue?\" \"An idea—an indication, no more. But the case certainly grows in interest. Unique, perfectly unique, and yet why not? I do not see any indications of bleeding on the line.\"\n",
            "\n",
            "score: 0.4694499417018526\n",
            "--------------------------------------------------------------------------------\n",
            "\n",
            "text: The firemen had been much perturbed at the strange arrangements which they had found within, and still more so by discovering a newly severed human thumb upon a window-sill of the second floor. About sunset, however, their efforts were at last successful, \n",
            "\n",
            "score: 0.4589313304577645\n",
            "--------------------------------------------------------------------------------\n",
            "\n",
            "text: Honoured Colleague [it ran]: Since your esteemed visit I have thought much of your case, and though in your circumstances there are some special reasons for the treatment, I would none the less enjoin caution, as my results have shown that it is not withou\n",
            "\n",
            "score: 0.45580903982561566\n",
            "--------------------------------------------------------------------------------\n",
            "\n",
            "text: other ship. I spent three days in wiring to Dundee, \"Wonderful!\" cried Hopkins. \"Wonderful!\" and at the end of that time I had ascertained the names of the crew of the Sea Unicorn in 1883. When I found Patrick Cairns among the harpooners my research was ne\n",
            "\n",
            "score: 0.4509274566494256\n",
            "--------------------------------------------------------------------------------\n",
            "\n"
          ]
        }
      ]
    },
    {
      "cell_type": "code",
      "source": [
        "%%time\n",
        "retriever = qdrant.as_retriever(search_kwargs={\"k\": 5})\n",
        "retrieved_docs = retriever.invoke(query)"
      ],
      "metadata": {
        "id": "pcYQO28-_pE6",
        "colab": {
          "base_uri": "https://localhost:8080/"
        },
        "outputId": "ed51ee7c-3354-4f96-fa74-d8c1f4d437b3"
      },
      "execution_count": 18,
      "outputs": [
        {
          "output_type": "stream",
          "name": "stdout",
          "text": [
            "CPU times: user 278 ms, sys: 4 ms, total: 282 ms\n",
            "Wall time: 283 ms\n"
          ]
        }
      ]
    },
    {
      "cell_type": "code",
      "source": [
        "for doc in retrieved_docs:\n",
        "    print(f\"id: {doc.metadata['_id']}\\n\")\n",
        "    print(f\"text: {doc.page_content[:256]}\\n\")\n",
        "    print(\"-\" * 80)\n",
        "    print()"
      ],
      "metadata": {
        "colab": {
          "base_uri": "https://localhost:8080/"
        },
        "id": "heWeRvZmSfuf",
        "outputId": "288b4e5e-3024-4153-d575-d8aa3c163b8e"
      },
      "execution_count": 19,
      "outputs": [
        {
          "output_type": "stream",
          "name": "stdout",
          "text": [
            "id: 37af55d8d0ea4a1fb59d2d5170d5af1e\n",
            "\n",
            "text: it were only so.\" \"What is it, Mr. Holmes? Have you a clue?\" \"An idea—an indication, no more. But the case certainly grows in interest. Unique, perfectly unique, and yet why not? I do not see any indications of bleeding on the line.\"\n",
            "\n",
            "--------------------------------------------------------------------------------\n",
            "\n",
            "id: 922a2da711254c72b9d0cd004927561a\n",
            "\n",
            "text: The firemen had been much perturbed at the strange arrangements which they had found within, and still more so by discovering a newly severed human thumb upon a window-sill of the second floor. About sunset, however, their efforts were at last successful, \n",
            "\n",
            "--------------------------------------------------------------------------------\n",
            "\n",
            "id: e640d7b4cef94b478338fe33b52f0752\n",
            "\n",
            "text: Honoured Colleague [it ran]: Since your esteemed visit I have thought much of your case, and though in your circumstances there are some special reasons for the treatment, I would none the less enjoin caution, as my results have shown that it is not withou\n",
            "\n",
            "--------------------------------------------------------------------------------\n",
            "\n",
            "id: d37dc9b6337048a8908f4476108fbbe6\n",
            "\n",
            "text: other ship. I spent three days in wiring to Dundee, \"Wonderful!\" cried Hopkins. \"Wonderful!\" and at the end of that time I had ascertained the names of the crew of the Sea Unicorn in 1883. When I found Patrick Cairns among the harpooners my research was ne\n",
            "\n",
            "--------------------------------------------------------------------------------\n",
            "\n",
            "id: d8deb588989d4b2c80335c7c15e4eaba\n",
            "\n",
            "text: \"The Bible!\" I cried triumphantly.\n",
            "\n",
            "\"Good, Watson, good! But not, if I may say so, quite good enough! Even if I accepted the compliment for myself I could hardly name any volume which would be less likely to lie at the elbow of one of Moriarty’s associates\n",
            "\n",
            "--------------------------------------------------------------------------------\n",
            "\n"
          ]
        }
      ]
    },
    {
      "cell_type": "markdown",
      "source": [
        "## Reranking"
      ],
      "metadata": {
        "id": "SS5zSz0lvnu3"
      }
    },
    {
      "cell_type": "code",
      "source": [
        "compressor = FlashrankRerank(model=\"ms-marco-MiniLM-L-12-v2\")\n",
        "compression_retriever = ContextualCompressionRetriever(\n",
        "    base_compressor=compressor, base_retriever=retriever\n",
        ")"
      ],
      "metadata": {
        "colab": {
          "base_uri": "https://localhost:8080/"
        },
        "id": "83P_6ysFzSxC",
        "outputId": "6bded698-e610-4fee-aa97-f33cf27cb74a"
      },
      "execution_count": 20,
      "outputs": [
        {
          "output_type": "stream",
          "name": "stdout",
          "text": [
            "Downloading ms-marco-MiniLM-L-12-v2...\n"
          ]
        },
        {
          "output_type": "stream",
          "name": "stderr",
          "text": [
            "ms-marco-MiniLM-L-12-v2.zip: 100%|██████████| 21.6M/21.6M [00:01<00:00, 19.1MiB/s]\n"
          ]
        }
      ]
    },
    {
      "cell_type": "code",
      "source": [
        "%%time\n",
        "reranked_docs = compression_retriever.invoke(query)\n",
        "len(reranked_docs)"
      ],
      "metadata": {
        "colab": {
          "base_uri": "https://localhost:8080/"
        },
        "id": "NUVfVgihLgVD",
        "outputId": "fb766662-4b3d-4b50-d79b-1425b6a18c3a"
      },
      "execution_count": 21,
      "outputs": [
        {
          "output_type": "stream",
          "name": "stdout",
          "text": [
            "Running pairwise ranking..\n",
            "CPU times: user 2.69 s, sys: 191 ms, total: 2.88 s\n",
            "Wall time: 2.82 s\n"
          ]
        },
        {
          "output_type": "execute_result",
          "data": {
            "text/plain": [
              "3"
            ]
          },
          "metadata": {},
          "execution_count": 21
        }
      ]
    },
    {
      "cell_type": "code",
      "source": [
        "for doc in reranked_docs:\n",
        "    print(f\"id: {doc.metadata['_id']}\\n\")\n",
        "    print(f\"text: {doc.page_content[:256]}\\n\")\n",
        "    print(f\"score: {doc.metadata['relevance_score']}\")\n",
        "    print(\"-\" * 80)\n",
        "    print()"
      ],
      "metadata": {
        "colab": {
          "base_uri": "https://localhost:8080/"
        },
        "id": "JqHWLMdqPhMT",
        "outputId": "a47ed3a9-e6e2-4648-e153-ee52aec3dac9"
      },
      "execution_count": 22,
      "outputs": [
        {
          "output_type": "stream",
          "name": "stdout",
          "text": [
            "id: d8deb588989d4b2c80335c7c15e4eaba\n",
            "\n",
            "text: \"The Bible!\" I cried triumphantly.\n",
            "\n",
            "\"Good, Watson, good! But not, if I may say so, quite good enough! Even if I accepted the compliment for myself I could hardly name any volume which would be less likely to lie at the elbow of one of Moriarty’s associates\n",
            "\n",
            "score: 2.5766439648577943e-05\n",
            "--------------------------------------------------------------------------------\n",
            "\n",
            "id: d37dc9b6337048a8908f4476108fbbe6\n",
            "\n",
            "text: other ship. I spent three days in wiring to Dundee, \"Wonderful!\" cried Hopkins. \"Wonderful!\" and at the end of that time I had ascertained the names of the crew of the Sea Unicorn in 1883. When I found Patrick Cairns among the harpooners my research was ne\n",
            "\n",
            "score: 1.662402064539492e-05\n",
            "--------------------------------------------------------------------------------\n",
            "\n",
            "id: 922a2da711254c72b9d0cd004927561a\n",
            "\n",
            "text: The firemen had been much perturbed at the strange arrangements which they had found within, and still more so by discovering a newly severed human thumb upon a window-sill of the second floor. About sunset, however, their efforts were at last successful, \n",
            "\n",
            "score: 1.5599940525135025e-05\n",
            "--------------------------------------------------------------------------------\n",
            "\n"
          ]
        }
      ]
    },
    {
      "cell_type": "markdown",
      "source": [
        "## Q&A Over Document"
      ],
      "metadata": {
        "id": "3ra-bCZzvrFy"
      }
    },
    {
      "cell_type": "code",
      "source": [
        "llm = ChatGroq(temperature=0, model_name=\"llama3-70b-8192\")"
      ],
      "metadata": {
        "id": "tjOym5svzy2j"
      },
      "execution_count": 23,
      "outputs": []
    },
    {
      "cell_type": "code",
      "source": [
        "prompt_template = \"\"\"\n",
        "Use the following pieces of information to answer the user's question.\n",
        "If you don't know the answer, just say that you don't know, don't try to make up an answer.\n",
        "\n",
        "Context: {context}\n",
        "Question: {question}\n",
        "\n",
        "Answer the question and provide additional helpful information,\n",
        "based on the pieces of information, if applicable. Be succinct.\n",
        "\n",
        "Responses should be properly formatted to be easily read.\n",
        "\"\"\"\n",
        "\n",
        "prompt = PromptTemplate(\n",
        "    template=prompt_template, input_variables=[\"context\", \"question\"]\n",
        ")"
      ],
      "metadata": {
        "id": "4iqfuyMaBe6j"
      },
      "execution_count": 24,
      "outputs": []
    },
    {
      "cell_type": "code",
      "source": [
        "qa = RetrievalQA.from_chain_type(\n",
        "    llm=llm,\n",
        "    chain_type=\"stuff\",\n",
        "    retriever=compression_retriever,\n",
        "    return_source_documents=True,\n",
        "    chain_type_kwargs={\"prompt\": prompt, \"verbose\": True},\n",
        ")"
      ],
      "metadata": {
        "id": "sz2aMwNWBxvg"
      },
      "execution_count": 25,
      "outputs": []
    },
    {
      "cell_type": "code",
      "source": [
        "%%time\n",
        "response = qa.invoke(\"What is the most difficult case solved by Sherlock?\")"
      ],
      "metadata": {
        "colab": {
          "base_uri": "https://localhost:8080/"
        },
        "id": "J8lBIegHT0Y6",
        "outputId": "b6bc1f5f-1e6e-445c-82ea-ff8ba254767d"
      },
      "execution_count": 26,
      "outputs": [
        {
          "output_type": "stream",
          "name": "stdout",
          "text": [
            "Running pairwise ranking..\n",
            "\n",
            "\n",
            "\u001b[1m> Entering new StuffDocumentsChain chain...\u001b[0m\n",
            "\n",
            "\n",
            "\u001b[1m> Entering new LLMChain chain...\u001b[0m\n",
            "Prompt after formatting:\n",
            "\u001b[32;1m\u001b[1;3m\n",
            "Use the following pieces of information to answer the user's question.\n",
            "If you don't know the answer, just say that you don't know, don't try to make up an answer.\n",
            "\n",
            "Context: Somewhere in the vaults of the bank of Cox and Co., at Charing Cross, there is a travel-worn and battered tin dispatch-box with my name, John H. Watson, M.D., Late Indian Army, painted upon the lid. It is crammed with papers, nearly all of which are records of cases to illustrate the curious problems which Mr. Sherlock Holmes had at various times to examine. Some, and not the least interesting, were complete failures, and as such will hardly bear narrating, since no final explanation is forthcoming. A problem without a solution may interest the student, but can hardly fail to annoy the casual reader. Among these unfinished tales is that of Mr. James Phillimore, who, stepping back into his own house to get his umbrella, was never more seen in this world. No less remarkable is that of the cutter Alicia, which sailed one spring morning into a small patch of mist from where she never again emerged, nor was anything further ever heard of herself and her crew. A third case worthy of note is that of Isadora Persano, the well-known journalist and duellist, who was found stark staring mad with a matchbox in front of him which contained a remarkable worm said to be unknown to science. Apart from these unfathomed cases, there are some which involve the secrets of private families to an extent which would mean consternation in many exalted quarters if it were thought possible that they might find their way into print. I need not say that such a breach of confidence is unthinkable, and that these records will be separated and destroyed now that my friend has time to turn his energies to the matter. There remain a considerable residue of cases of greater or less interest which I might have edited before had I not feared to give the public a surfeit which might react upon the reputation of the man whom above all others I revere. In some I was myself concerned and can speak as an eyewitness, while in others I was either not present or played so small a part that they could only be told as by a third person. The following\n",
            "\n",
            "clue which was presented to you. I had the good fortune to seize upon that, and everything which has occurred since then has served to confirm my original supposition, and, indeed, was the logical sequence of it. Hence things which have perplexed you and made the case more obscure, have served to enlighten me and to strengthen my conclusions. It is a mistake to confound strangeness with mystery. The most commonplace crime is often the most mysterious because it presents no new or special features from which deductions may be drawn. This murder would have been infinitely more difficult to unravel had the body of the victim been simply found lying in the roadway without any of those outré and sensational accompaniments which have rendered it remarkable. These strange details, far from making the case more difficult, have really had the effect of making it less so.\n",
            "\n",
            "Mr. Gregson, who had listened to this address with considerable impatience, could contain himself no longer. “Look here, Mr. Sherlock Holmes,” he said, “we are all ready to acknowledge that you are a smart man, and that you have your own methods of working. We want something more than mere theory and preaching now, though. It is a case of taking the man. I have made my case out, and it seems I was wrong. Young Charpentier could not have been engaged in this second affair. Lestrade went after his man, Stangerson, and it appears that he was wrong too. You have thrown out hints here, and hints there, and seem to know more than we do, but the time has come when we feel that we have a right to ask you straight how much you do know of the business. Can you name the man who did it?”\n",
            "\n",
            "“I cannot help feeling that Gregson is right, sir,” remarked Lestrade. “We have both tried, and we have both failed. You have remarked more than once since I have been in the room that you had all the evidence which you require. Surely you will not withhold it any longer.”\n",
            "\n",
            "“Any delay in arresting the assassin,” I observed, “might give him time to perpetrate some fresh atrocity.”\n",
            "\n",
            "“What! you have solved it already?”\n",
            "\n",
            "“Well, that would be too much to say. I have discovered a suggestive fact, that is all. It is, however, very suggestive. The details are still to be added. I have just found, on consulting the back files of the Times, that Major Sholto, of Upper Norword, late of the 34th Bombay Infantry, died upon the 28th of April, 1882.”\n",
            "\n",
            "“I may be very obtuse, Holmes, but I fail to see what this suggests.”\n",
            "\n",
            "“No? You surprise me. Look at it in this way, then. Captain Morstan disappears. The only person in London whom he could have visited is Major Sholto. Major Sholto denies having heard that he was in London. Four years later Sholto dies. Within a week of his death Captain Morstan’s daughter receives a valuable present, which is repeated from year to year, and now culminates in a letter which describes her as a wronged woman. What wrong can it refer to except this deprivation of her father? And why should the presents begin immediately after Sholto’s death, unless it is that Sholto’s heir knows something of the mystery and desires to make compensation? Have you any alternative theory which will meet the facts?”\n",
            "\n",
            "“But what a strange compensation! And how strangely made! Why, too, should he write a letter now, rather than six years ago? Again, the letter speaks of giving her justice. What justice can she have? It is too much to suppose that her father is still alive. There is no other injustice in her case that you know of.”\n",
            "\n",
            "“There are difficulties; there are certainly difficulties,” said Sherlock Holmes, pensively. “But our expedition of to-night will solve them all. Ah, here is a four-wheeler, and Miss Morstan is inside. Are you all ready? Then we had better go down, for it is a little past the hour.”\n",
            "\n",
            "I picked up my hat and my heaviest stick, but I observed that Holmes took his revolver from his drawer and slipped it into his pocket. It was clear that he thought that our night’s work might be a serious one.\n",
            "Question: What is the most difficult case solved by Sherlock?\n",
            "\n",
            "Answer the question and provide additional helpful information,\n",
            "based on the pieces of information, if applicable. Be succinct.\n",
            "\n",
            "Responses should be properly formatted to be easily read.\n",
            "\u001b[0m\n",
            "\n",
            "\u001b[1m> Finished chain.\u001b[0m\n",
            "\n",
            "\u001b[1m> Finished chain.\u001b[0m\n",
            "CPU times: user 3.04 s, sys: 122 ms, total: 3.16 s\n",
            "Wall time: 7.85 s\n"
          ]
        }
      ]
    },
    {
      "cell_type": "code",
      "source": [
        "print_response(response)"
      ],
      "metadata": {
        "colab": {
          "base_uri": "https://localhost:8080/"
        },
        "id": "o_PpnlgxY5xz",
        "outputId": "abb0db6f-11a7-424c-d1cb-3c61e15c41a3"
      },
      "execution_count": 27,
      "outputs": [
        {
          "output_type": "stream",
          "name": "stdout",
          "text": [
            "Based on the provided text, it is not possible to determine the most difficult case solved by\n",
            "Sherlock Holmes. The text mentions several cases, including the case of Mr. James Phillimore, the\n",
            "cutter Alicia, and Isadora Persano, but it does not provide a clear answer to the question.\n",
            "\n",
            "However, it is worth noting that the text suggests that Sherlock Holmes has solved many cases, and\n",
            "that he has a unique approach to solving mysteries. The conversation between Holmes, Gregson, and\n",
            "Lestrade implies that Holmes has a reputation for being a skilled detective, and that he has a keen\n",
            "mind for solving complex problems.\n",
            "\n",
            "Additional helpful information:\n",
            "\n",
            "* The text mentions that Sherlock Holmes has a collection of papers and records of his cases, which\n",
            "are stored in a tin dispatch-box at the bank of Cox and Co.\n",
            "* The text also mentions that Holmes has a habit of keeping his thoughts and theories to himself,\n",
            "and that he often only reveals his conclusions when he has gathered all the necessary evidence.\n"
          ]
        }
      ]
    },
    {
      "cell_type": "code",
      "source": [],
      "metadata": {
        "id": "ugGMZne_fKzO"
      },
      "execution_count": null,
      "outputs": []
    },
    {
      "cell_type": "code",
      "source": [
        "qa = RetrievalQA.from_chain_type(\n",
        "    llm=llm,\n",
        "    chain_type=\"stuff\",\n",
        "    retriever=compression_retriever,\n",
        "    return_source_documents=True,\n",
        "    chain_type_kwargs={\"prompt\": prompt, \"verbose\": False},\n",
        ")"
      ],
      "metadata": {
        "id": "lJfS5OIYavyV"
      },
      "execution_count": null,
      "outputs": []
    },
    {
      "cell_type": "code",
      "source": [
        "%%time\n",
        "response = qa.invoke(\"who was the great hound really?\")"
      ],
      "metadata": {
        "colab": {
          "base_uri": "https://localhost:8080/"
        },
        "id": "IObqfsaHYjGm",
        "outputId": "1a5d2d57-085c-40d4-9301-1f274cda6bce"
      },
      "execution_count": 38,
      "outputs": [
        {
          "output_type": "stream",
          "name": "stdout",
          "text": [
            "Running pairwise ranking..\n",
            "\n",
            "\n",
            "\u001b[1m> Entering new StuffDocumentsChain chain...\u001b[0m\n",
            "\n",
            "\n",
            "\u001b[1m> Entering new LLMChain chain...\u001b[0m\n",
            "Prompt after formatting:\n",
            "\u001b[32;1m\u001b[1;3m\n",
            "Use the following pieces of information to answer the user's question.\n",
            "If you don't know the answer, just say that you don't know, don't try to make up an answer.\n",
            "\n",
            "Context: “A dog!” said Holmes. “By Jove, a curly-haired spaniel. Poor Mortimer will never see his pet again. Well, I do not know that this place contains any secret which we have not already fathomed. He could hide his hound, but he could not hush its voice, and hence came those cries which even in daylight were not pleasant to hear. On an emergency he could keep the hound in the out-house at Merripit, but it was always a risk, and it was only on the supreme day, which he regarded as the end of all his efforts, that he dared do it. This paste in the tin is no doubt the luminous mixture with which the creature was daubed. It was suggested, of course, by the story of the family hell-hound, and by the desire to frighten old Sir Charles to death. No wonder the poor devil of a convict ran and screamed, even as our friend did, and as we ourselves might have done, when he saw such a creature bounding through the darkness of the moor upon his track. It was a cunning device, for, apart from the chance of driving your victim to his death, what peasant would venture to inquire too closely into such a creature should he get sight of it, as many have done, upon the moor? I said it in London, Watson, and I say it again now, that never yet have we helped to hunt down a more dangerous man than he who is lying yonder”—he swept his long arm towards the huge mottled expanse of green-splotched bog which stretched away until it merged into the russet slopes of the moor.\n",
            "\n",
            "CHAPTER XV. A Retrospection\n",
            "\n",
            "And have I not cause for such a feeling? Consider the long sequence of incidents which have all pointed to some sinister influence which is at work around us. There is the death of the last occupant of the Hall, fulfilling so exactly the conditions of the family legend, and there are the repeated reports from peasants of the appearance of a strange creature upon the moor. Twice I have with my own ears heard the sound which resembled the distant baying of a hound. It is incredible, impossible, that it should really be outside the ordinary laws of nature. A spectral hound which leaves material footmarks and fills the air with its howling is surely not to be thought of. Stapleton may fall in with such a superstition, and Mortimer also; but if I have one quality upon earth it is common-sense, and nothing will persuade me to believe in such a thing. To do so would be to descend to the level of these poor peasants, who are not content with a mere fiend dog but must needs describe him with hell-fire shooting from his mouth and eyes. Holmes would not listen to such fancies, and I am his agent. But facts are facts, and I have twice heard this crying upon the moor. Suppose that there were really some huge hound loose upon it; that would go far to explain everything. But where could such a hound lie concealed, where did it get its food, where did it come from, how was it that no one saw it by day? It must be confessed that the natural explanation offers almost as many difficulties as the other. And always, apart from the hound, there is the fact of the human agency in London, the man in the cab, and the letter which warned Sir Henry against the moor. This at least was real, but it might have been the work of a protecting friend as easily as of an enemy. Where is that friend or enemy now? Has he remained in London, or has he followed us down here? Could he—could he be the stranger whom I saw upon the tor?\n",
            "\n",
            "“We had an example of his readiness of resource that morning when he got away from us so successfully, and also of his audacity in sending back my own name to me through the cabman. From that moment he understood that I had taken over the case in London, and that therefore there was no chance for him there. He returned to Dartmoor and awaited the arrival of the baronet.”\n",
            "\n",
            "“One moment!” said I. “You have, no doubt, described the sequence of events correctly, but there is one point which you have left unexplained. What became of the hound when its master was in London?”\n",
            "\n",
            "“I have given some attention to this matter and it is undoubtedly of importance. There can be no question that Stapleton had a confidant, though it is unlikely that he ever placed himself in his power by sharing all his plans with him. There was an old manservant at Merripit House, whose name was Anthony. His connection with the Stapletons can be traced for several years, as far back as the schoolmastering days, so that he must have been aware that his master and mistress were really husband and wife. This man has disappeared and has escaped from the country. It is suggestive that Anthony is not a common name in England, while Antonio is so in all Spanish or Spanish-American countries. The man, like Mrs. Stapleton herself, spoke good English, but with a curious lisping accent. I have myself seen this old man cross the Grimpen Mire by the path which Stapleton had marked out. It is very probable, therefore, that in the absence of his master it was he who cared for\n",
            "Question: who was the great hound really?\n",
            "\n",
            "Answer the question and provide additional helpful information,\n",
            "based on the pieces of information, if applicable. Be succinct.\n",
            "\n",
            "Responses should be properly formatted to be easily read.\n",
            "\u001b[0m\n",
            "\n",
            "\u001b[1m> Finished chain.\u001b[0m\n",
            "\n",
            "\u001b[1m> Finished chain.\u001b[0m\n",
            "CPU times: user 2.06 s, sys: 109 ms, total: 2.17 s\n",
            "Wall time: 3.26 s\n"
          ]
        }
      ]
    },
    {
      "cell_type": "code",
      "source": [
        "Markdown(response[\"result\"])"
      ],
      "metadata": {
        "colab": {
          "base_uri": "https://localhost:8080/",
          "height": 180
        },
        "id": "JevCXm-sbEMo",
        "outputId": "15513f7f-f5a9-448a-eebd-fd01918db360"
      },
      "execution_count": 39,
      "outputs": [
        {
          "output_type": "execute_result",
          "data": {
            "text/plain": [
              "<IPython.core.display.Markdown object>"
            ],
            "text/markdown": "**Answer:** The great hound was a curly-haired spaniel, not a supernatural creature.\n\n**Additional helpful information:**\n\n* The hound was a real dog, not a spectral or hellish creature, as suggested by the family legend.\n* The dog was used by Stapleton to create the illusion of a supernatural hound, in an attempt to frighten Sir Charles to death.\n* The dog was kept in the out-house at Merripit House, and was occasionally taken out to create the illusion of a ghostly hound on the moor.\n* The dog was daubed with a luminous mixture to make it appear eerie and supernatural."
          },
          "metadata": {},
          "execution_count": 39
        }
      ]
    },
    {
      "cell_type": "code",
      "source": [
        "%%time\n",
        "response = qa.invoke(\"Address of Sherlock Holmes?\")"
      ],
      "metadata": {
        "colab": {
          "base_uri": "https://localhost:8080/"
        },
        "id": "R6cr0QR6C7_L",
        "outputId": "1d69e418-6ab4-47c2-b404-02cee3fa08d3"
      },
      "execution_count": 40,
      "outputs": [
        {
          "output_type": "stream",
          "name": "stdout",
          "text": [
            "Running pairwise ranking..\n",
            "\n",
            "\n",
            "\u001b[1m> Entering new StuffDocumentsChain chain...\u001b[0m\n",
            "\n",
            "\n",
            "\u001b[1m> Entering new LLMChain chain...\u001b[0m\n",
            "Prompt after formatting:\n",
            "\u001b[32;1m\u001b[1;3m\n",
            "Use the following pieces of information to answer the user's question.\n",
            "If you don't know the answer, just say that you don't know, don't try to make up an answer.\n",
            "\n",
            "Context: ‘Where could I find him?’\n",
            "\n",
            "‘Oh, at his new offices. He did tell me the address. Yes, 17 King Edward Street, near St. Paul’s.’\n",
            "\n",
            "“I started off, Mr. Holmes, but when I got to that address it was a manufactory of artificial knee-caps, and no one in it had ever heard of either Mr. William Morris or Mr. Duncan Ross.”\n",
            "\n",
            "“And what did you do then?” asked Holmes.\n",
            "\n",
            "“I went home to Saxe-Coburg Square, and I took the advice of my assistant. But he could not help me in any way. He could only say that if I waited I should hear by post. But that was not quite good enough, Mr. Holmes. I did not wish to lose such a place without a struggle, so, as I had heard that you were good enough to give advice to poor folk who were in need of it, I came right away to you.”\n",
            "\n",
            "“And you did very wisely,” said Holmes. “Your case is an exceedingly remarkable one, and I shall be happy to look into it. From what you have told me I think that it is possible that graver issues hang from it than might at first sight appear.”\n",
            "\n",
            "“Grave enough!” said Mr. Jabez Wilson. “Why, I have lost four pound a week.”\n",
            "\n",
            "“As far as you are personally concerned,” remarked Holmes, “I do not see that you have any grievance against this extraordinary league. On the contrary, you are, as I understand, richer by some £30, to say nothing of the minute knowledge which you have gained on every subject which comes under the letter A. You have lost nothing by them.”\n",
            "\n",
            "“No, sir. But I want to find out about them, and most difficult to identify. But I must be prompt who they are, and what their object was in playing over this matter.”\n",
            "\n",
            "“What are you going to do, then?” I asked.\n",
            "\n",
            "I felt that my position was an embarrassing one. \"I have not yet described to you the most singular part. About six years ago—to be exact, upon the 4th of May, 1882—an advertisement appeared in the Times asking for the address of Miss Mary Morstan and stating that it would be to her advantage to come forward. There was no name or address appended. I had at that time just entered the family of Mrs. Cecil Forrester in the capacity of governess. By her advice I published my address in the advertisement column. The same day there arrived through the post a small card-board box addressed to me, which I found to contain a very large and lustrous pearl. No word of writing was enclosed. Since then every year upon the same date there has always appeared a similar box, containing a similar pearl, without any clue as to the sender. They have been pronounced by an expert to be of a rare variety and of considerable value. You can see for yourselves that they are very handsome.\" She opened a flat box as she spoke, and showed me six of the finest pearls that I had ever seen.\n",
            "\n",
            "\"Your statement is most interesting,\" said Sherlock Holmes. \"Has anything else occurred to you?\"\n",
            "\n",
            "\"Yes, and no later than to-day. That is why I have come to you. This morning I received this letter, which you will perhaps read for yourself.\"\n",
            "\n",
            "\"Thank you,\" said Holmes. \"The envelope too, please. Postmark, London, S.W. Date, July 7. Hum! Man's thumb-mark on corner,—probably postman. Best quality paper. Envelopes at sixpence a packet. Particular man in his stationery. No address. 'Be at the third pillar from the left outside the Lyceum Theatre to-night at seven o'clock. If you are distrustful, bring two friends. You are a wronged woman, and shall have justice. Do not bring police. If you do, all will be in vain. Your unknown friend.' Well, really, this is a very pretty little mystery. What do you intend to do, Miss Morstan?\"\n",
            "\n",
            "\"That is exactly what I want to ask you.\"\n",
            "\n",
            "Wire received. Coming down with unsigned warrant. Arrive five-forty. - Lestrade.\n",
            "\n",
            "\"That is in answer to mine of this morning. He is the best of the professionals, I think, and we may need his assistance. Now, Watson, I think that we cannot employ our time better than by calling upon your acquaintance, Mrs. Laura Lyons.\"\n",
            "\n",
            "His plan of campaign was beginning to be evident. He would use the baronet in order to convince the Stapletons that we were really gone, while we should actually return at the instant when we were likely to be needed. That telegram from London, if mentioned by Sir Henry to the Stapletons, must remove the last suspicions from their minds. Already I seemed to see our nets drawing closer around that lean-jawed pike.\n",
            "\n",
            "Mrs. Laura Lyons was in her office, and Sherlock Holmes opened his interview with a frankness and directness which considerably amazed her.\n",
            "\n",
            "\"I am investigating the circumstances which attended the death of the late Sir Charles Baskerville,\" said he. \"My friend here, Dr. Watson, has informed me of what you have communicated, and also of what you have withheld in connection with that matter.\"\n",
            "\n",
            "\"What have I withheld?\" she asked defiantly.\n",
            "\n",
            "\"You have confessed that you asked Sir Charles to be at the gate at ten o'clock. We know that that was the place and hour of his death. You have withheld what the connection is between these events.\"\n",
            "\n",
            "\"There is no connection.\"\n",
            "\n",
            "\"In that case the coincidence must indeed be an extraordinary one. But I think that we shall succeed in establishing a connection after all. I wish to be perfectly frank with you, Mrs. Lyons. We regard this case as one of murder, and the evidence may implicate not only your friend Mr. Stapleton, but his wife as well.\"\n",
            "\n",
            "The lady sprang from her chair.\n",
            "\n",
            "\"His wife!\" she cried.\n",
            "\n",
            "\"The fact is no longer a secret. The person who has passed for his sister is really his wife.\"\n",
            "\n",
            "Mrs. Lyons had resumed her seat. Her hands were grasping the arms of her chair, and I saw that the pink nails had turned white with the pressure of her grip.\n",
            "Question: Address of Sherlock Holmes?\n",
            "\n",
            "Answer the question and provide additional helpful information,\n",
            "based on the pieces of information, if applicable. Be succinct.\n",
            "\n",
            "Responses should be properly formatted to be easily read.\n",
            "\u001b[0m\n",
            "\n",
            "\u001b[1m> Finished chain.\u001b[0m\n",
            "\n",
            "\u001b[1m> Finished chain.\u001b[0m\n",
            "CPU times: user 2.36 s, sys: 111 ms, total: 2.47 s\n",
            "Wall time: 3.36 s\n"
          ]
        }
      ]
    },
    {
      "cell_type": "code",
      "source": [
        "print_response(response)"
      ],
      "metadata": {
        "colab": {
          "base_uri": "https://localhost:8080/"
        },
        "id": "NxwcVvEYb6Fi",
        "outputId": "928bfc53-7b42-49b5-faaf-39d8afbb0f9b"
      },
      "execution_count": 41,
      "outputs": [
        {
          "output_type": "stream",
          "name": "stdout",
          "text": [
            "The address of Sherlock Holmes is not explicitly mentioned in the provided text. However, it is\n",
            "implied that his office is located near Saxe-Coburg Square, as Mr. Jabez Wilson mentions going home\n",
            "to Saxe-Coburg Square before visiting Sherlock Holmes.\n"
          ]
        }
      ]
    },
    {
      "cell_type": "code",
      "source": [
        "%%time\n",
        "response = qa.invoke(\n",
        "    \"How did Irene trick Sherlock?\"\n",
        ")"
      ],
      "metadata": {
        "colab": {
          "base_uri": "https://localhost:8080/"
        },
        "id": "enShZsgADnZt",
        "outputId": "87c24651-7d00-4d76-d74e-89c6f48f3b28"
      },
      "execution_count": 42,
      "outputs": [
        {
          "output_type": "stream",
          "name": "stdout",
          "text": [
            "Running pairwise ranking..\n",
            "\n",
            "\n",
            "\u001b[1m> Entering new StuffDocumentsChain chain...\u001b[0m\n",
            "\n",
            "\n",
            "\u001b[1m> Entering new LLMChain chain...\u001b[0m\n",
            "Prompt after formatting:\n",
            "\u001b[32;1m\u001b[1;3m\n",
            "Use the following pieces of information to answer the user's question.\n",
            "If you don't know the answer, just say that you don't know, don't try to make up an answer.\n",
            "\n",
            "Context: A professional case of great gravity was engaging my own attention at the time, and the whole of next day I was busy at the bedside of the sufferer. It was not until close upon six o’clock that I found myself free and was able to spring into a hansom and drive to Baker Street, half afraid that I might be too late to assist at the denouement of the little mystery. I found Sherlock Holmes alone, however, half asleep, with his long, thin form curled up in the recesses of his armchair. A formidable array of bottles and test-tubes, with the pungent cleanly smell of hydrochloric acid, told me that he had\n",
            "\n",
            "been called upon to fathom. Once only had I known him to fail, in the case of the King of Bohemia and of the Irene Adler photograph; but when I looked back to the weird business of the Sign of Four, and the extraordinary circumstances connected with the Study in Scarlet, I felt that it would be a strange tangle indeed which he could not unravel.\n",
            "\n",
            "I left him then, still puffing at his black clay pipe, with the conviction that when I came again on the next evening I would find that he held in his hands all the clues which would lead up to the identity of the disappearing bridegroom of Miss Mary Sutherland.\n",
            "\n",
            "A professional case of great gravity was engaging my own attention at the time, and the whole of next day I was busy at the bedside of the sufferer. It was not until close upon six o’clock that I found myself free and was able to spring into a hansom and drive to Baker Street, half afraid that I might be too late to assist at the denouement of the little mystery. I found Sherlock Holmes alone, however, half asleep, with his long, thin form curled up in the recesses of his armchair. A formidable array of bottles and test-tubes, with the pungent cleanly smell of hydrochloric acid, told me that he had\n",
            "\n",
            "come upon her husband. She said that she would come down when her husband was asleep at three in the morning, and speak with me through the end window, if I would go away afterwards and leave her in peace. She came down and brought money with her, trying to bribe me to go. This made me mad, and I caught her arm and tried to pull her through the window. At that moment in rushed the husband with his revolver in his hand. Elsie had sunk down upon the floor, and we were face to face. I was heeled also, and I held up my gun to scare him off and let me get away. He fired and missed me. I pulled off almost at the same instant, and down he dropped. I made away across the garden, and as I went I heard the window shut behind me. That’s God’s truth, gentlemen, every word of it, and I heard no more about it until that lad came riding up with a note which made me walk in here, like a jay, and give myself into your hands.” A cab had driven up whilst the American had been talking. Two uniformed policemen sat inside. Inspector Martin rose and touched his prisoner on the shoulder. “It is time for us to go.” “Can I see her first?” “No, she is not conscious. Mr. Sherlock Holmes, I only hope that if ever again I have an important case I shall have the good fortune to have you by my side.” We stood at the window and watched the cab drive away. As I turned back my eye caught the pellet of paper which the prisoner had tossed upon the table. It was the note with which Holmes had decoyed him. “See if you can read it, Watson,” said he, with a smile. It contained no word, but this little line of dancing men:— “If you use the code which I have explained,” said Holmes, “you will find that it simply means ‘Come here at once.’ I was convinced that it was an invitation which he would not refuse, since he could never imagine that it could come from anyone but the lady. And so, my dear Watson, we have ended by turning the dancing men to good when they have so often been the agents of evil, and I think that I have fulfilled my promise of giving\n",
            "\n",
            "element of improbability about the lady’s story? the rope—each in turn was minutely examined And now on the top of this comes the incident of and duly pondered. The body of the unfortunate baronet had been removed, but all else remained as we had seen it in the morning. Then, to my astonishment, Holmes climbed up on to the massive mantelpiece. Far above his head hung the few inches of red cord which were still attached to the wire. For a long time he gazed upward at it, and then in an attempt to get nearer to it he rested his knee upon a wooden bracket on the wall. This brought his hand within a few inches of the broken end of the rope, but it was not this so much as the bracket itself which seemed to engage his attention. Finally he sprang down with an ejaculation of satisfaction. “It’s all right, Watson,” said he. “We have got our case—one of the most remarkable in our collection. But, dear me, how slow-witted I have been, and how nearly I have committed the blunder of my lifetime! Now, I think that with a few missing links my chain is almost complete.” “You have got your men?” “Man, Watson, man. Only one, but a very formidable person. Strong as a lion—witness the blow that bent that poker. Six foot three in height, active as a squirrel, dexterous with his fingers; finally, remarkably quick-witted, for this whole ingenious story is of his concoction. Yes, Watson, we have come upon the handiwork of a very remarkable individual. And yet in that bell-rope he has given us a clue which should not have left us a doubt.” “Where was the clue?” “Well, if you were to pull down a bell-rope, Watson, where would you expect it to break? Surely at the spot where it is attached to the wire. Why should it break three inches from the top as this one has done?” “Because it is frayed there?” “Exactly. This end, which we can examine, is frayed. He was cunning enough to do that with his knife. But the other end is not frayed. You could not observe that from here, but if you were on the mantelpiece you would see that it is cut clean\n",
            "Question: How did Irene trick Sherlock?\n",
            "\n",
            "Answer the question and provide additional helpful information,\n",
            "based on the pieces of information, if applicable. Be succinct.\n",
            "\n",
            "Responses should be properly formatted to be easily read.\n",
            "\u001b[0m\n",
            "\n",
            "\u001b[1m> Finished chain.\u001b[0m\n",
            "\n",
            "\u001b[1m> Finished chain.\u001b[0m\n",
            "CPU times: user 3.42 s, sys: 41 ms, total: 3.46 s\n",
            "Wall time: 4.63 s\n"
          ]
        }
      ]
    },
    {
      "cell_type": "code",
      "source": [
        "print_response(response)"
      ],
      "metadata": {
        "colab": {
          "base_uri": "https://localhost:8080/"
        },
        "id": "CtEBlRP0dVaM",
        "outputId": "7c05b230-996e-4858-8d5a-f5e6e2ae9afe"
      },
      "execution_count": 43,
      "outputs": [
        {
          "output_type": "stream",
          "name": "stdout",
          "text": [
            "**Answer:** Irene Adler, also known as \"the woman,\" tricked Sherlock Holmes by outsmarting him and\n",
            "escaping his detection in the case of the King of Bohemia.\n",
            "\n",
            "**Additional information:** Irene Adler was a clever and cunning opponent who managed to outwit\n",
            "Sherlock Holmes, which was a rare occurrence. Her cleverness and intelligence earned her a special\n",
            "place in Holmes' memory, and he referred to her as \"the woman\" in later conversations.\n"
          ]
        }
      ]
    },
    {
      "cell_type": "code",
      "source": [
        "%%time\n",
        "response = qa.invoke(\n",
        "    \"How does Sherlock feel about his family?\"\n",
        ")"
      ],
      "metadata": {
        "colab": {
          "base_uri": "https://localhost:8080/"
        },
        "id": "842BweJKD0J3",
        "outputId": "f6193fcf-79ff-4f1d-f595-58ff66934bc1"
      },
      "execution_count": 44,
      "outputs": [
        {
          "output_type": "stream",
          "name": "stdout",
          "text": [
            "Running pairwise ranking..\n",
            "\n",
            "\n",
            "\u001b[1m> Entering new StuffDocumentsChain chain...\u001b[0m\n",
            "\n",
            "\n",
            "\u001b[1m> Entering new LLMChain chain...\u001b[0m\n",
            "Prompt after formatting:\n",
            "\u001b[32;1m\u001b[1;3m\n",
            "Use the following pieces of information to answer the user's question.\n",
            "If you don't know the answer, just say that you don't know, don't try to make up an answer.\n",
            "\n",
            "Context: During my long and intimate acquaintance with Mr. Sherlock Holmes I had never heard him refer to his relations, and hardly ever to his own early life. This reticence upon his part had increased the somewhat inhuman effect which he produced upon me, until sometimes I found myself regarding him as an isolated phenomenon, a brain without a heart, as deficient in human sympathy as he was pre-eminent in intelligence. His aversion to women and his disinclination to form new friendships were both typical of his unemotional character, but not more so than his complete suppression of every reference to his own people. I had come to believe that he was an orphan with no relatives living, but one day, to my very great surprise, he began to talk to me about his brother.\n",
            "\n",
            "It was after tea on a summer evening, and the conversation, which had roamed in a desultory, spasmodic fashion from golf clubs to the causes of the change in the obliquity of the ecliptic, came round at last to the question of atavism and hereditary aptitudes. The point under discussion was, how far any singular gift in an individual was due to his ancestry and how far to his own early training.\n",
            "\n",
            "“In your own case,” said I, “from all that you have told me, it seems obvious that your faculty of observation and your peculiar facility for deduction are due to your own systematic training.”\n",
            "\n",
            "“To some extent,” he answered, thoughtfully. “My ancestors were country squires, who appear to have led much the same life as is natural to their class. But, none the less, my turn that way is in my veins, and may have come with my grandmother, who was the sister of Vernet, the French artist. Art in the blood is liable to take the strangest forms.”\n",
            "\n",
            "“But how do you know that it is hereditary?”\n",
            "\n",
            "“Because my brother Mycroft possesses it in a larger degree than I do.”\n",
            "\n",
            "more painful because it is a distorted love, a maniacal exaggerated love for you, and possibly for his dead mother, which has prompted his action. His very soul is consumed with hatred for this splendid child, whose health and beauty are a contrast to his own weakness.”\n",
            "\n",
            "“Good God! It is incredible!”\n",
            "\n",
            "“Have I spoken the truth, madame?”\n",
            "\n",
            "The lady was sobbing, with her face buried in the pillows. Now she turned to her husband.\n",
            "\n",
            "“How could I tell you, Bob? I felt the blow it would be to you. It was better that I should wait and that it should come from some other lips than mine. When this gentleman, who seems to have powers of magic, wrote that he knew all, I was glad.”\n",
            "\n",
            "“I think a year at sea would be my prescription for Master Jacky,” said Holmes, rising from his chair. “Only one thing is still clouded, madame. We can quite understand your attacks upon Master Jacky. There is a limit to a mother’s patience. But how did you dare to leave the child these last two days?”\n",
            "\n",
            "“I had told Mrs. Mason. She knew.”\n",
            "\n",
            "Sherlock Holmes.\n",
            "\n",
            "I have only one further note of this case. It is the letter which Holmes wrote in final answer to that with which the narrative begins. It ran thus:\n",
            "\n",
            "Baker Street,\n",
            "\n",
            "Nov. 21st.\n",
            "\n",
            "Re Vampires\n",
            "\n",
            "Sir:\n",
            "\n",
            "Referring to your letter of the 19th, I beg to state that I have looked into the inquiry of your client, Mr. Robert Ferguson, of Ferguson and Muirhead, tea brokers, of Mincing Lane, and that the matter has been brought to a satisfactory conclusion. With thanks for your recommendation, I am, sir,\n",
            "\n",
            "Faithfully yours,\n",
            "\n",
            "— Sherlock Holmes.\n",
            "\n",
            "The Adventure of the Three Garridebs\n",
            "\n",
            "Arthur Conan Doyle\n",
            "\n",
            "\"And now a word as to my household, Mr. Holmes, for I wish you to thoroughly understand the situation. My groom and my page sleep out of the house, and may be set aside altogether. I have three maid-servants who have been with me a number of years and whose absolute reliability is quite above suspicion. Another, Lucy Parr, the second waiting-maid, has only been in my service a few months. She came with an excellent character, however, and has always given me satisfaction. She is a very pretty girl and has attracted admirers who have occasionally hung about the place. That is the only drawback which we have found to her, but we believe her to be a thoroughly good girl in every way.\n",
            "\n",
            "\"So much for the servants. My family itself is so small that it will not take me long to describe it. I am a widower and have an only son, Arthur. He has been a disappointment to me, Mr. Holmes—a grievous disappointment. I have no doubt that I am myself to blame. People tell me that I have spoiled him. Very likely I have. When my dear wife died I felt that he was all I had to love. I could not bear to see the smile fade even for a moment from his face. I have never denied him a wish. Perhaps it would have been better for both of us had I been sterner, but I meant it for the best.\n",
            "Question: How does Sherlock feel about his family?\n",
            "\n",
            "Answer the question and provide additional helpful information,\n",
            "based on the pieces of information, if applicable. Be succinct.\n",
            "\n",
            "Responses should be properly formatted to be easily read.\n",
            "\u001b[0m\n",
            "\n",
            "\u001b[1m> Finished chain.\u001b[0m\n",
            "\n",
            "\u001b[1m> Finished chain.\u001b[0m\n",
            "CPU times: user 2.35 s, sys: 53 ms, total: 2.4 s\n",
            "Wall time: 3.5 s\n"
          ]
        }
      ]
    },
    {
      "cell_type": "code",
      "source": [
        "print_response(response)"
      ],
      "metadata": {
        "colab": {
          "base_uri": "https://localhost:8080/"
        },
        "id": "v0Oug1q5n7eW",
        "outputId": "01845d12-bd02-4ac4-a13b-4f17326d0340"
      },
      "execution_count": 45,
      "outputs": [
        {
          "output_type": "stream",
          "name": "stdout",
          "text": [
            "**Answer:** Sherlock Holmes is reticent about his family and rarely speaks about them. However, he\n",
            "does mention his brother Mycroft, indicating that he has a sibling.\n",
            "\n",
            "**Additional information:**\n",
            "\n",
            "* Sherlock's ancestors were country squires, and his grandmother was the sister of Vernet, a French\n",
            "artist.\n",
            "* He believes that his faculty of observation and deduction may be hereditary, citing his brother\n",
            "Mycroft as an example of someone who possesses these traits to a greater degree than he does.\n"
          ]
        }
      ]
    },
    {
      "cell_type": "code",
      "source": [
        "from google.colab import drive\n",
        "drive.mount('/content/drive')\n"
      ],
      "metadata": {
        "colab": {
          "base_uri": "https://localhost:8080/"
        },
        "id": "7KMYfhBufOAP",
        "outputId": "a8fb1e15-9f7e-4635-df79-4a6916fe4ba4"
      },
      "execution_count": 46,
      "outputs": [
        {
          "output_type": "stream",
          "name": "stdout",
          "text": [
            "Drive already mounted at /content/drive; to attempt to forcibly remount, call drive.mount(\"/content/drive\", force_remount=True).\n"
          ]
        }
      ]
    },
    {
      "cell_type": "code",
      "source": [
        "!zip -r my_directory.zip db"
      ],
      "metadata": {
        "colab": {
          "base_uri": "https://localhost:8080/"
        },
        "id": "OoFloi4ogf7r",
        "outputId": "dae4b63a-ead9-4588-9f2c-0a3e3c7b7be5"
      },
      "execution_count": 37,
      "outputs": [
        {
          "output_type": "stream",
          "name": "stdout",
          "text": [
            "  adding: db/ (stored 0%)\n",
            "  adding: db/meta.json (deflated 55%)\n",
            "  adding: db/collection/ (stored 0%)\n",
            "  adding: db/collection/document_embeddings/ (stored 0%)\n",
            "  adding: db/collection/document_embeddings/storage.sqlite (deflated 52%)\n",
            "  adding: db/.lock (stored 0%)\n"
          ]
        }
      ]
    }
  ]
}